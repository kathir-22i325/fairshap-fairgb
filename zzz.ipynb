{
 "cells": [
  {
   "cell_type": "code",
   "execution_count": 30,
   "metadata": {},
   "outputs": [],
   "source": [
    "# coding: utf-8\n",
    "\n",
    "import numpy as np\n",
    "\n",
    "\n",
    "def contingency_tab_bi(y, y_hat, pos=1):\n",
    "  # For one single classifier\n",
    "  tp = np.sum((y == pos) & (y_hat == pos))\n",
    "  fn = np.sum((y == pos) & (y_hat != pos))\n",
    "  fp = np.sum((y != pos) & (y_hat == pos))\n",
    "  tn = np.sum((y != pos) & (y_hat != pos))\n",
    "  return tp, fp, fn, tn\n",
    "\n",
    "\n",
    "def marginalised_np_mat(y, y_hat, pos_label=1,\n",
    "                        priv_idx=list()):\n",
    "  print(f'priv_idx:{priv_idx}')\n",
    "  print(f'y:{y}')\n",
    "  print(f'y_hat:{y_hat}')\n",
    "  print(f'type(y):{type(y)}')\n",
    "  print(f'type(y_hat):{type(y_hat)}')\n",
    "  print(f'type(priv_idx):{type(priv_idx)}')\n",
    "  if isinstance(y, list) or isinstance(y_hat, list):\n",
    "    y, y_hat = np.array(y), np.array(y_hat)\n",
    "  print(f'priv_idx:{priv_idx}')\n",
    "  print(f'y:{y}')\n",
    "  print(f'y_hat:{y_hat}')\n",
    "  print(f'type(y):{type(y)}')\n",
    "  print(f'type(y_hat):{type(y_hat)}')\n",
    "  g1_y = y[priv_idx]\n",
    "  print(f'g1_y:{g1_y}')\n",
    "  g0_y = y[~priv_idx]\n",
    "  print(f'g0_y:{g0_y}')\n",
    "  g1_hx = y_hat[priv_idx]\n",
    "  g0_hx = y_hat[~priv_idx]\n",
    "\n",
    "  g1_Cm = contingency_tab_bi(g1_y, g1_hx, pos_label)\n",
    "  g0_Cm = contingency_tab_bi(g0_y, g0_hx, pos_label)\n",
    "  # g1_Cm: for the privileged group\n",
    "  # g0_Cm: for marginalised group(s)\n",
    "  return g1_Cm, g0_Cm\n",
    "\n",
    "\n",
    "def zero_division(dividend, divisor):\n",
    "  if divisor == 0 and dividend == 0:\n",
    "    return 0.\n",
    "  elif divisor == 0:\n",
    "    return 10.  # return 1.\n",
    "  return dividend / divisor\n",
    "\n",
    "\n",
    "def grp1_DP(g1_Cm, g0_Cm):\n",
    "  g1 = g1_Cm[0] + g1_Cm[1]\n",
    "  g1 = zero_division(g1, sum(g1_Cm))\n",
    "  g0 = g0_Cm[0] + g0_Cm[1]\n",
    "  g0 = zero_division(g0, sum(g0_Cm))\n",
    "  return abs(g0 - g1), float(g1), float(g0)\n",
    "\n",
    "\n",
    "def grp2_EO(g1_Cm, g0_Cm):\n",
    "  g1 = g1_Cm[0] + g1_Cm[2]\n",
    "  g1 = zero_division(g1_Cm[0], g1)\n",
    "  g0 = g0_Cm[0] + g0_Cm[2]\n",
    "  g0 = zero_division(g0_Cm[0], g0)\n",
    "  return abs(g0 - g1), float(g1), float(g0)\n",
    "\n",
    "\n",
    "def grp3_PQP(g1_Cm, g0_Cm):\n",
    "  g1 = g1_Cm[0] + g1_Cm[1]\n",
    "  g1 = zero_division(g1_Cm[0], g1)\n",
    "  g0 = g0_Cm[0] + g0_Cm[1]\n",
    "  g0 = zero_division(g0_Cm[0], g0)\n",
    "  return abs(g0 - g1), float(g1), float(g0)\n",
    "\n"
   ]
  },
  {
   "cell_type": "code",
   "execution_count": 31,
   "metadata": {},
   "outputs": [],
   "source": [
    "y = [0]\n",
    "y_hat = [0]\n",
    "priv_idx = [0]\n",
    "priv_idx = np.array(priv_idx, dtype=bool)  # 强制转换为布尔数组"
   ]
  },
  {
   "cell_type": "code",
   "execution_count": 32,
   "metadata": {},
   "outputs": [
    {
     "name": "stdout",
     "output_type": "stream",
     "text": [
      "priv_idx:[False]\n",
      "y:[0]\n",
      "y_hat:[0]\n",
      "type(y):<class 'list'>\n",
      "type(y_hat):<class 'list'>\n",
      "type(priv_idx):<class 'numpy.ndarray'>\n",
      "priv_idx:[False]\n",
      "y:[0]\n",
      "y_hat:[0]\n",
      "type(y):<class 'numpy.ndarray'>\n",
      "type(y_hat):<class 'numpy.ndarray'>\n",
      "g1_y:[]\n",
      "g0_y:[0]\n",
      "g1_Cm:(0, 0, 0, 0)\n",
      "g0_Cm:(0, 0, 0, 1)\n"
     ]
    }
   ],
   "source": [
    "g1_Cm, g0_Cm = marginalised_np_mat(y, y_hat, 1, priv_idx)\n",
    "print(f'g1_Cm:{g1_Cm}')\n",
    "print(f'g0_Cm:{g0_Cm}')"
   ]
  },
  {
   "cell_type": "code",
   "execution_count": 29,
   "metadata": {},
   "outputs": [
    {
     "name": "stdout",
     "output_type": "stream",
     "text": [
      "y:[1]\n",
      "type(y):<class 'numpy.ndarray'>\n",
      "y.shape:(1,)\n",
      "priv_idx:[False]\n",
      "y:[1]\n",
      "y_hat:[0]\n",
      "type(y):<class 'numpy.ndarray'>\n",
      "type(y_hat):<class 'numpy.ndarray'>\n",
      "type(priv_idx):<class 'numpy.ndarray'>\n",
      "priv_idx:[False]\n",
      "y:[1]\n",
      "y_hat:[0]\n",
      "type(y):<class 'numpy.ndarray'>\n",
      "type(y_hat):<class 'numpy.ndarray'>\n",
      "g1_y:[]\n",
      "g0_y:[1]\n",
      "fair_grp1:0.0\n",
      "fair_grp2:0.0\n",
      "fair_grp3:0.0\n",
      "[False]\n"
     ]
    }
   ],
   "source": [
    "\n",
    "if __name__ == \"__main__\":\n",
    "  n = 1\n",
    "  y = np.random.randint(2, size=n)      # true label\n",
    "  print(f'y:{y}')\n",
    "  print(f'type(y):{type(y)}')\n",
    "  print(f'y.shape:{y.shape}')\n",
    "  y_hat = np.random.randint(2, size=n)  # preditcion\n",
    "  priv_idx = np.random.randint(2, size=n, dtype='bool')\n",
    "\n",
    "  g1_Cm, g0_Cm = marginalised_np_mat(y, y_hat, 1, priv_idx)\n",
    "  fair_grp1 = grp1_DP(g1_Cm, g0_Cm)[0]\n",
    "  fair_grp2 = grp2_EO(g1_Cm, g0_Cm)[0]\n",
    "  fair_grp3 = grp3_PQP(g1_Cm, g0_Cm)[0]\n",
    "  print(f'fair_grp1:{fair_grp1}')\n",
    "  print(f'fair_grp2:{fair_grp2}')\n",
    "  print(f'fair_grp3:{fair_grp3}')\n",
    "  print(priv_idx)\n",
    "  pass"
   ]
  },
  {
   "cell_type": "code",
   "execution_count": null,
   "metadata": {},
   "outputs": [],
   "source": []
  }
 ],
 "metadata": {
  "kernelspec": {
   "display_name": "unlabel_fair",
   "language": "python",
   "name": "python3"
  },
  "language_info": {
   "codemirror_mode": {
    "name": "ipython",
    "version": 3
   },
   "file_extension": ".py",
   "mimetype": "text/x-python",
   "name": "python",
   "nbconvert_exporter": "python",
   "pygments_lexer": "ipython3",
   "version": "3.9.20"
  }
 },
 "nbformat": 4,
 "nbformat_minor": 2
}
