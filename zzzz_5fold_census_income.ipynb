{
 "cells": [
  {
   "cell_type": "markdown",
   "metadata": {},
   "source": [
    "# This notebook is for the Fair-Shapely experiment"
   ]
  },
  {
   "cell_type": "code",
   "execution_count": null,
   "metadata": {},
   "outputs": [],
   "source": [
    "%reload_ext autoreload\n",
    "%autoreload 2"
   ]
  },
  {
   "cell_type": "markdown",
   "metadata": {},
   "source": [
    "### 1. Import libraries"
   ]
  },
  {
   "cell_type": "code",
   "execution_count": null,
   "metadata": {},
   "outputs": [],
   "source": [
    "import pandas as pd\n",
    "import numpy as np\n",
    "from sklearn.model_selection import train_test_split\n",
    "from sklearn.linear_model import LogisticRegression\n",
    "from sklearn.ensemble import RandomForestClassifier\n",
    "from xgboost import XGBClassifier\n",
    "from sklearn.metrics import accuracy_score"
   ]
  },
  {
   "cell_type": "markdown",
   "metadata": {},
   "source": [
    "### 2. Import dataset"
   ]
  },
  {
   "cell_type": "code",
   "execution_count": null,
   "metadata": {},
   "outputs": [],
   "source": [
    "from src.data.unified_dataloader import load_dataset\n",
    "\n",
    "a, processed_census_income_kdd = load_dataset('census_income_kdd')"
   ]
  },
  {
   "cell_type": "code",
   "execution_count": null,
   "metadata": {},
   "outputs": [],
   "source": [
    "processed_census_income_kdd.head(3)"
   ]
  },
  {
   "cell_type": "markdown",
   "metadata": {},
   "source": [
    "### 3. Split label/unlabel data, split train/test data."
   ]
  },
  {
   "cell_type": "code",
   "execution_count": null,
   "metadata": {},
   "outputs": [],
   "source": [
    "'''census income kdd dataset'''\n",
    "sampled_data = processed_census_income_kdd.sample(frac=0.1, random_state=25)  # 2% of the data\n",
    "df = sampled_data.copy()\n",
    "X = df.drop('class', axis=1)\n",
    "y = df['class']\n",
    "X.shape"
   ]
  },
  {
   "cell_type": "code",
   "execution_count": null,
   "metadata": {},
   "outputs": [],
   "source": [
    "from src.evaluation.five_fold_cross_validation import evaluate_model\n",
    "model = XGBClassifier()\n",
    "evaluate_model(model=model, X_train=X, y_train=y, num_folds=5, dataset_name='census_income')"
   ]
  },
  {
   "cell_type": "markdown",
   "metadata": {},
   "source": [
    "### 4. read saved_csv file and make plots"
   ]
  },
  {
   "cell_type": "code",
   "execution_count": null,
   "metadata": {},
   "outputs": [],
   "source": [
    "def extract_original_values(fold):\n",
    "    original_DR = fold.loc[0,'new_DR']\n",
    "    original_DP = fold.loc[0,'new_DP']\n",
    "    original_EO = fold.loc[0,'new_EO']\n",
    "    original_PQP = fold.loc[0,'new_PQP']\n",
    "    return original_DR, original_DP, original_EO, original_PQP"
   ]
  },
  {
   "cell_type": "code",
   "execution_count": null,
   "metadata": {},
   "outputs": [],
   "source": [
    "''' german credit dataset '''\n",
    "\n",
    "fold1 = pd.read_csv('saved_results/compas/1-fold_results.csv')\n",
    "fold2 = pd.read_csv('saved_results/compas/2-fold_results.csv')\n",
    "fold3 = pd.read_csv('saved_results/compas/3-fold_results.csv')\n",
    "fold4 = pd.read_csv('saved_results/compas/4-fold_results.csv')\n",
    "fold5 = pd.read_csv('saved_results/compas/5-fold_results.csv')\n",
    "\n",
    "fold1_original_DR, fold1_original_DP, fold1_original_EO, fold1_original_PQP = extract_original_values(fold1)\n",
    "fold2_original_DR, fold2_original_DP, fold2_original_EO, fold2_original_PQP = extract_original_values(fold2)\n",
    "fold3_original_DR, fold3_original_DP, fold3_original_EO, fold3_original_PQP = extract_original_values(fold3)\n",
    "fold4_original_DR, fold4_original_DP, fold4_original_EO, fold4_original_PQP = extract_original_values(fold4)\n",
    "fold5_original_DR, fold5_original_DP, fold5_original_EO, fold5_original_PQP = extract_original_values(fold5)\n",
    "\n",
    "fold1.drop(fold1.index[0], inplace=True)\n",
    "fold2.drop(fold2.index[0], inplace=True)\n",
    "fold3.drop(fold3.index[0], inplace=True)\n",
    "fold4.drop(fold4.index[0], inplace=True)\n",
    "fold5.drop(fold5.index[0], inplace=True)\n",
    "\n",
    "fold1.head(3)"
   ]
  },
  {
   "cell_type": "code",
   "execution_count": null,
   "metadata": {},
   "outputs": [],
   "source": [
    "import matplotlib.pyplot as plt\n",
    "\n",
    "for fold in [fold1, fold2, fold3, fold4, fold5]:\n",
    "    fold['action_number'] = pd.to_numeric(fold['action_number'])\n",
    "\n",
    "min_action = 1\n",
    "max_action = min([\n",
    "    len(fold1['action_number']),\n",
    "    len(fold2['action_number']),\n",
    "    len(fold3['action_number']),\n",
    "    len(fold4['action_number']),\n",
    "    len(fold5['action_number'])\n",
    "])\n",
    "\n",
    "# 创建一个包含所有可能action_number的列表\n",
    "action_range = np.arange(min_action, max_action + 1)\n",
    "\n",
    "# 创建一个字典来存储每个action_number对应的new_DR值\n",
    "dr_values = {action: [] for action in action_range}\n",
    "\n",
    "# 收集每个action_number对应的所有new_DR值\n",
    "for fold in [fold1, fold2, fold3, fold4, fold5]:\n",
    "    mask = (fold['action_number'] >= min_action) & (fold['action_number'] <= max_action)\n",
    "    for action, dr in zip(fold.loc[mask, 'action_number'], fold.loc[mask, 'new_DR']):\n",
    "        dr_values[action].append(dr)\n",
    "\n",
    "# 计算每个action_number的均值和标准差\n",
    "means = []\n",
    "stds = []\n",
    "for action in action_range:\n",
    "    values = dr_values[action]\n",
    "    means.append(np.mean(values))\n",
    "    stds.append(np.std(values))\n",
    "\n",
    "# 转换为numpy数组以便于计算\n",
    "means = np.array(means)\n",
    "stds = np.array(stds)\n",
    "\n",
    "# 创建图形\n",
    "plt.figure(figsize=(10, 6))\n",
    "\n",
    "# 绘制均值线\n",
    "plt.plot(action_range, means, 'b-', label='Mean DR')\n",
    "\n",
    "# 绘制填充区域（均值±标准差）\n",
    "plt.fill_between(action_range, \n",
    "                 means - stds,\n",
    "                 means + stds,\n",
    "                 alpha=0.2,\n",
    "                 color='b',\n",
    "                 label='±1 std dev')\n",
    "\n",
    "plt.xlabel('Action Number')\n",
    "plt.ylabel('new_DR')\n",
    "plt.title('Mean DR with Confidence Interval')\n",
    "plt.legend()\n",
    "plt.grid(True)\n",
    "\n",
    "# 显示图形\n",
    "plt.show()"
   ]
  },
  {
   "cell_type": "code",
   "execution_count": null,
   "metadata": {},
   "outputs": [],
   "source": [
    "import pandas as pd\n",
    "import numpy as np\n",
    "import matplotlib.pyplot as plt\n",
    "\n",
    "# 首先确保所有DataFrame中的action_number列都是数值类型\n",
    "for fold in [fold1, fold2, fold3, fold4, fold5]:\n",
    "    fold['action_number'] = pd.to_numeric(fold['action_number'])\n",
    "\n",
    "# 减去各自的original_DR\n",
    "fold1['new_DR'] = fold1['new_DR'] - fold1_original_DR\n",
    "fold2['new_DR'] = fold2['new_DR'] - fold2_original_DR\n",
    "fold3['new_DR'] = fold3['new_DR'] - fold3_original_DR\n",
    "fold4['new_DR'] = fold4['new_DR'] - fold4_original_DR\n",
    "fold5['new_DR'] = fold5['new_DR'] - fold5_original_DR\n",
    "\n",
    "# 找到最小的action_number范围\n",
    "min_action = max([\n",
    "    fold1['action_number'].min(),\n",
    "    fold2['action_number'].min(),\n",
    "    fold3['action_number'].min(),\n",
    "    fold4['action_number'].min(),\n",
    "    fold5['action_number'].min()\n",
    "])\n",
    "\n",
    "max_action = min([\n",
    "    fold1['action_number'].max(),\n",
    "    fold2['action_number'].max(),\n",
    "    fold3['action_number'].max(),\n",
    "    fold4['action_number'].max(),\n",
    "    fold5['action_number'].max()\n",
    "])\n",
    "\n",
    "# 创建一个包含所有可能action_number的列表\n",
    "action_range = np.arange(min_action, max_action + 1)\n",
    "\n",
    "# 创建一个字典来存储每个action_number对应的new_DR值\n",
    "dr_values = {action: [] for action in action_range}\n",
    "\n",
    "# 收集每个action_number对应的所有new_DR值\n",
    "for fold in [fold1, fold2, fold3, fold4, fold5]:\n",
    "    mask = (fold['action_number'] >= min_action) & (fold['action_number'] <= max_action)\n",
    "    for action, dr in zip(fold.loc[mask, 'action_number'], fold.loc[mask, 'new_DR']):\n",
    "        dr_values[action].append(dr)\n",
    "\n",
    "# 计算每个action_number的均值和标准差\n",
    "means = []\n",
    "stds = []\n",
    "for action in action_range:\n",
    "    values = dr_values[action]\n",
    "    means.append(np.mean(values))\n",
    "    stds.append(np.std(values))\n",
    "\n",
    "# 转换为numpy数组以便于计算\n",
    "means = np.array(means)\n",
    "stds = np.array(stds)\n",
    "\n",
    "# 创建图形\n",
    "plt.figure(figsize=(10, 6))\n",
    "\n",
    "# 绘制加粗的y=0基准线\n",
    "plt.axhline(y=0, color='black', linewidth=2, linestyle='-', label='Baseline (y=0)')\n",
    "\n",
    "# 绘制均值线\n",
    "plt.plot(action_range, means, 'b-', label='Mean DR')\n",
    "\n",
    "# 绘制填充区域（均值±标准差）\n",
    "plt.fill_between(action_range, \n",
    "                 means - stds,\n",
    "                 means + stds,\n",
    "                 alpha=0.2,\n",
    "                 color='b',\n",
    "                 label='±1 std dev')\n",
    "\n",
    "plt.xlabel('Action Number')\n",
    "plt.ylabel('DR Difference from Original')\n",
    "plt.title('Mean DR Difference with Confidence Interval')\n",
    "plt.legend()\n",
    "plt.grid(True)\n",
    "\n",
    "# 显示图形\n",
    "plt.show()"
   ]
  }
 ],
 "metadata": {
  "kernelspec": {
   "display_name": "unlabel_fair",
   "language": "python",
   "name": "python3"
  },
  "language_info": {
   "codemirror_mode": {
    "name": "ipython",
    "version": 3
   },
   "file_extension": ".py",
   "mimetype": "text/x-python",
   "name": "python",
   "nbconvert_exporter": "python",
   "pygments_lexer": "ipython3",
   "version": "3.9.20"
  }
 },
 "nbformat": 4,
 "nbformat_minor": 2
}
