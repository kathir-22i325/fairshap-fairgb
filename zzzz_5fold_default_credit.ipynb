{
 "cells": [
  {
   "cell_type": "markdown",
   "metadata": {},
   "source": [
    "# This notebook is for the Fair-Shapely experiment"
   ]
  },
  {
   "cell_type": "code",
   "execution_count": null,
   "metadata": {},
   "outputs": [],
   "source": [
    "%reload_ext autoreload\n",
    "%autoreload 2"
   ]
  },
  {
   "cell_type": "markdown",
   "metadata": {},
   "source": [
    "### 1. Import libraries"
   ]
  },
  {
   "cell_type": "code",
   "execution_count": null,
   "metadata": {},
   "outputs": [],
   "source": [
    "import pandas as pd\n",
    "import numpy as np\n",
    "from sklearn.model_selection import train_test_split\n",
    "from sklearn.linear_model import LogisticRegression\n",
    "from sklearn.ensemble import RandomForestClassifier\n",
    "from xgboost import XGBClassifier\n",
    "from sklearn.metrics import accuracy_score"
   ]
  },
  {
   "cell_type": "markdown",
   "metadata": {},
   "source": [
    "### 2. Import dataset"
   ]
  },
  {
   "cell_type": "code",
   "execution_count": null,
   "metadata": {},
   "outputs": [],
   "source": [
    "from src.data.unified_dataloader import load_dataset\n",
    "\n",
    "a, processed_default_credit = load_dataset('default_credit')\n",
    "# _, processed_uci = load_dataset('uci')"
   ]
  },
  {
   "cell_type": "code",
   "execution_count": null,
   "metadata": {},
   "outputs": [],
   "source": [
    "processed_default_credit.head(3)"
   ]
  },
  {
   "cell_type": "markdown",
   "metadata": {},
   "source": [
    "### 3. Split label/unlabel data, split train/test data."
   ]
  },
  {
   "cell_type": "code",
   "execution_count": null,
   "metadata": {},
   "outputs": [],
   "source": [
    "'''UCI dataset'''\n",
    "# df = processed_uci.copy()\n",
    "# X = df.drop('income', axis=1)\n",
    "# y = df['income']\n",
    "\n",
    "'''German Credit dataset'''\n",
    "df = processed_default_credit.copy()\n",
    "X = df.drop('default_payment_next_month', axis=1)\n",
    "y = df['default_payment_next_month']\n"
   ]
  },
  {
   "cell_type": "code",
   "execution_count": null,
   "metadata": {},
   "outputs": [],
   "source": [
    "from src.evaluation.five_fold_cross_validation import evaluate_model\n",
    "model = XGBClassifier()\n",
    "evaluate_model(model=model, X_train=X, y_train=y, num_folds=5, dataset_name='default_credit', fairshap_base='DR')"
   ]
  },
  {
   "cell_type": "markdown",
   "metadata": {},
   "source": [
    "### 4. read saved_csv file and make plots"
   ]
  },
  {
   "cell_type": "code",
   "execution_count": null,
   "metadata": {},
   "outputs": [],
   "source": [
    "def extract_original_values(fold):\n",
    "    original_DR = fold.loc[0,'new_DR']\n",
    "    original_DP = fold.loc[0,'new_DP']\n",
    "    original_EO = fold.loc[0,'new_EO']\n",
    "    original_PQP = fold.loc[0,'new_PQP']\n",
    "    return original_DR, original_DP, original_EO, original_PQP"
   ]
  },
  {
   "cell_type": "code",
   "execution_count": null,
   "metadata": {},
   "outputs": [],
   "source": [
    "import pandas as pd\n",
    "import numpy as np\n",
    "\n",
    "fold1 = pd.read_csv('saved_results/german_credit/1-fold_results.csv')\n",
    "fold2 = pd.read_csv('saved_results/german_credit/2-fold_results.csv')\n",
    "fold3 = pd.read_csv('saved_results/german_credit/3-fold_results.csv')\n",
    "fold4 = pd.read_csv('saved_results/german_credit/4-fold_results.csv')\n",
    "fold5 = pd.read_csv('saved_results/german_credit/5-fold_results.csv')\n",
    "\n",
    "fold1_original_DR, fold1_original_DP, fold1_original_EO, fold1_original_PQP = extract_original_values(fold1)\n",
    "fold2_original_DR, fold2_original_DP, fold2_original_EO, fold2_original_PQP = extract_original_values(fold2)\n",
    "fold3_original_DR, fold3_original_DP, fold3_original_EO, fold3_original_PQP = extract_original_values(fold3)\n",
    "fold4_original_DR, fold4_original_DP, fold4_original_EO, fold4_original_PQP = extract_original_values(fold4)\n",
    "fold5_original_DR, fold5_original_DP, fold5_original_EO, fold5_original_PQP = extract_original_values(fold5)\n",
    "\n",
    "fold1.drop(fold1.index[0], inplace=True)\n",
    "fold2.drop(fold2.index[0], inplace=True)\n",
    "fold3.drop(fold3.index[0], inplace=True)\n",
    "fold4.drop(fold4.index[0], inplace=True)\n",
    "fold5.drop(fold5.index[0], inplace=True)\n",
    "\n",
    "folds = [fold1, fold2, fold3, fold4, fold5]\n",
    "original_drs = [fold1_original_DR, fold2_original_DR, fold3_original_DR, fold4_original_DR, fold5_original_DR]\n",
    "original_dps = [fold1_original_DP, fold2_original_DP, fold3_original_DP, fold4_original_DP, fold5_original_DP]  \n",
    "original_eos = [fold1_original_EO, fold2_original_EO, fold3_original_EO, fold4_original_EO, fold5_original_EO]\n",
    "original_pqps = [fold1_original_PQP, fold2_original_PQP, fold3_original_PQP, fold4_original_PQP, fold5_original_PQP]\n"
   ]
  },
  {
   "cell_type": "markdown",
   "metadata": {},
   "source": [
    "#### 4.1 直接plot_results"
   ]
  },
  {
   "cell_type": "code",
   "execution_count": null,
   "metadata": {},
   "outputs": [],
   "source": [
    "from src.visualization.visualization2 import plot_results\n",
    "\n",
    "# 调用函数\n",
    "plot_results(\n",
    "    folds=folds,\n",
    "    original_DR=original_drs, \n",
    "    original_DP=original_dps, \n",
    "    original_EO=original_eos, \n",
    "    original_PQP=original_pqps,\n",
    "    stop_when_no_data=3,\n",
    "    min_action=1,\n",
    "    figsize=(10, 6),\n",
    "    fill_alpha=0.3,\n",
    "    fill_color='b',\n",
    "    red_alpha=0.3  # 红线透明度\n",
    ")"
   ]
  },
  {
   "cell_type": "markdown",
   "metadata": {},
   "source": [
    "#### 4.2 画图每个fold相对自己original value的提升"
   ]
  },
  {
   "cell_type": "code",
   "execution_count": null,
   "metadata": {},
   "outputs": [],
   "source": [
    "from src.visualization.visualization1 import plot_fairness_improvement\n",
    "\n",
    "\n",
    "plot_fairness_improvement(\n",
    "    folds=folds,\n",
    "    original_DR=original_drs,\n",
    "    original_DP=original_dps,\n",
    "    original_EO=original_eos,\n",
    "    original_PQP=original_pqps,\n",
    "    stop_when_no_data=3,  # 当有 3 个 fold 无数据时停止\n",
    "    min_action=1,\n",
    "    baseline=0.0,\n",
    "    figsize=(10, 6),\n",
    "    fill_alpha=0.3,\n",
    "    fill_color='g'\n",
    ")"
   ]
  },
  {
   "cell_type": "markdown",
   "metadata": {},
   "source": [
    "-------------------------------------------------------------"
   ]
  },
  {
   "cell_type": "markdown",
   "metadata": {},
   "source": [
    "### 4.3 DP"
   ]
  },
  {
   "cell_type": "code",
   "execution_count": null,
   "metadata": {},
   "outputs": [],
   "source": [
    "import pandas as pd\n",
    "import numpy as np\n",
    "\n",
    "def extract_original_values(fold):\n",
    "    original_DR = fold.loc[0, 'new_DR']\n",
    "    original_DP = fold.loc[0, 'new_DP']\n",
    "    original_EO = fold.loc[0, 'new_EO']\n",
    "    original_PQP = fold.loc[0, 'new_PQP']\n",
    "    original_recall = fold.loc[0, 'new_recall']\n",
    "    original_precision = fold.loc[0, 'new_precision']\n",
    "    original_sufficiency = fold.loc[0, 'new_sufficiency']\n",
    "    return original_DR, original_DP, original_EO, original_PQP, original_recall, original_precision, original_sufficiency\n",
    "\n",
    "fold1 = pd.read_csv('saved_results/german_credit/fairSHAP-DP_1-fold_results.csv')\n",
    "fold2 = pd.read_csv('saved_results/german_credit/fairSHAP-DP_2-fold_results.csv')\n",
    "fold3 = pd.read_csv('saved_results/german_credit/fairSHAP-DP_3-fold_results.csv')\n",
    "fold4 = pd.read_csv('saved_results/german_credit/fairSHAP-DP_4-fold_results.csv')\n",
    "fold5 = pd.read_csv('saved_results/german_credit/fairSHAP-DP_5-fold_results.csv')\n",
    "\n",
    "fold1_original_values = extract_original_values(fold1)\n",
    "fold2_original_values = extract_original_values(fold2)\n",
    "fold3_original_values = extract_original_values(fold3)\n",
    "fold4_original_values = extract_original_values(fold4)\n",
    "fold5_original_values = extract_original_values(fold5)\n",
    "\n",
    "fold1.drop(fold1.index[0], inplace=True)\n",
    "fold2.drop(fold2.index[0], inplace=True)\n",
    "fold3.drop(fold3.index[0], inplace=True)\n",
    "fold4.drop(fold4.index[0], inplace=True)\n",
    "fold5.drop(fold5.index[0], inplace=True)\n",
    "\n",
    "folds = [fold1, fold2, fold3, fold4, fold5]\n",
    "original_drs = [fold1_original_values[0], fold2_original_values[0], fold3_original_values[0], fold4_original_values[0], fold5_original_values[0]]\n",
    "original_dps = [fold1_original_values[1], fold2_original_values[1], fold3_original_values[1], fold4_original_values[1], fold5_original_values[1]]\n",
    "original_eos = [fold1_original_values[2], fold2_original_values[2], fold3_original_values[2], fold4_original_values[2], fold5_original_values[2]]\n",
    "original_pqps = [fold1_original_values[3], fold2_original_values[3], fold3_original_values[3], fold4_original_values[3], fold5_original_values[3]]\n",
    "original_recalls = [fold1_original_values[4], fold2_original_values[4], fold3_original_values[4], fold4_original_values[4], fold5_original_values[4]]\n",
    "original_precisions = [fold1_original_values[5], fold2_original_values[5], fold3_original_values[5], fold4_original_values[5], fold5_original_values[5]]\n",
    "original_sufficiencies = [fold1_original_values[6], fold2_original_values[6], fold3_original_values[6], fold4_original_values[6], fold5_original_values[6]]"
   ]
  },
  {
   "cell_type": "code",
   "execution_count": null,
   "metadata": {},
   "outputs": [],
   "source": [
    "from src.visualization.viz3 import plot_fairness_improvement\n",
    "# 调用函数\n",
    "plot_fairness_improvement(\n",
    "    folds=folds,\n",
    "    original_DR=original_drs, \n",
    "    original_DP=original_dps, \n",
    "    original_EO=original_eos, \n",
    "    original_PQP=original_pqps,\n",
    "    original_recall=original_recalls,\n",
    "    original_precision=original_precisions,\n",
    "    original_sufficiency=original_sufficiencies,\n",
    "    stop_when_no_data=3,\n",
    "    min_action=1,\n",
    "    figsize=(12, 8),\n",
    "    fill_alpha=0.3,\n",
    "    fill_color='g',\n",
    "    # red_alpha=0.3  # 红线透明度\n",
    ")"
   ]
  },
  {
   "cell_type": "markdown",
   "metadata": {},
   "source": [
    "### 4.3 EO"
   ]
  },
  {
   "cell_type": "code",
   "execution_count": null,
   "metadata": {},
   "outputs": [],
   "source": [
    "import pandas as pd\n",
    "import numpy as np\n",
    "\n",
    "def extract_original_values(fold):\n",
    "    original_DR = fold.loc[0, 'new_DR']\n",
    "    original_DP = fold.loc[0, 'new_DP']\n",
    "    original_EO = fold.loc[0, 'new_EO']\n",
    "    original_PQP = fold.loc[0, 'new_PQP']\n",
    "    original_recall = fold.loc[0, 'new_recall']\n",
    "    original_precision = fold.loc[0, 'new_precision']\n",
    "    original_sufficiency = fold.loc[0, 'new_sufficiency']\n",
    "    return original_DR, original_DP, original_EO, original_PQP, original_recall, original_precision, original_sufficiency\n",
    "\n",
    "fold1 = pd.read_csv('saved_results/german_credit/fairSHAP-EO_1-fold_results.csv')\n",
    "fold2 = pd.read_csv('saved_results/german_credit/fairSHAP-EO_2-fold_results.csv')\n",
    "fold3 = pd.read_csv('saved_results/german_credit/fairSHAP-EO_3-fold_results.csv')\n",
    "fold4 = pd.read_csv('saved_results/german_credit/fairSHAP-EO_4-fold_results.csv')\n",
    "fold5 = pd.read_csv('saved_results/german_credit/fairSHAP-EO_5-fold_results.csv')\n",
    "\n",
    "fold1_original_values = extract_original_values(fold1)\n",
    "fold2_original_values = extract_original_values(fold2)\n",
    "fold3_original_values = extract_original_values(fold3)\n",
    "fold4_original_values = extract_original_values(fold4)\n",
    "fold5_original_values = extract_original_values(fold5)\n",
    "\n",
    "fold1.drop(fold1.index[0], inplace=True)\n",
    "fold2.drop(fold2.index[0], inplace=True)\n",
    "fold3.drop(fold3.index[0], inplace=True)\n",
    "fold4.drop(fold4.index[0], inplace=True)\n",
    "fold5.drop(fold5.index[0], inplace=True)\n",
    "\n",
    "folds = [fold1, fold2, fold3, fold4, fold5]\n",
    "original_drs = [fold1_original_values[0], fold2_original_values[0], fold3_original_values[0], fold4_original_values[0], fold5_original_values[0]]\n",
    "original_dps = [fold1_original_values[1], fold2_original_values[1], fold3_original_values[1], fold4_original_values[1], fold5_original_values[1]]\n",
    "original_eos = [fold1_original_values[2], fold2_original_values[2], fold3_original_values[2], fold4_original_values[2], fold5_original_values[2]]\n",
    "original_pqps = [fold1_original_values[3], fold2_original_values[3], fold3_original_values[3], fold4_original_values[3], fold5_original_values[3]]\n",
    "original_recalls = [fold1_original_values[4], fold2_original_values[4], fold3_original_values[4], fold4_original_values[4], fold5_original_values[4]]\n",
    "original_precisions = [fold1_original_values[5], fold2_original_values[5], fold3_original_values[5], fold4_original_values[5], fold5_original_values[5]]\n",
    "original_sufficiencies = [fold1_original_values[6], fold2_original_values[6], fold3_original_values[6], fold4_original_values[6], fold5_original_values[6]]\n",
    "\n",
    "\n",
    "from src.visualization.viz3 import plot_fairness_improvement\n",
    "# 调用函数\n",
    "plot_fairness_improvement(\n",
    "    folds=folds,\n",
    "    original_DR=original_drs, \n",
    "    original_DP=original_dps, \n",
    "    original_EO=original_eos, \n",
    "    original_PQP=original_pqps,\n",
    "    original_recall=original_recalls,\n",
    "    original_precision=original_precisions,\n",
    "    original_sufficiency=original_sufficiencies,\n",
    "    stop_when_no_data=3,\n",
    "    min_action=1,\n",
    "    figsize=(12, 8),\n",
    "    fill_alpha=0.3,\n",
    "    fill_color='g',\n",
    "\n",
    ")\n"
   ]
  },
  {
   "cell_type": "code",
   "execution_count": null,
   "metadata": {},
   "outputs": [],
   "source": []
  }
 ],
 "metadata": {
  "kernelspec": {
   "display_name": "unlabel_fair",
   "language": "python",
   "name": "python3"
  },
  "language_info": {
   "codemirror_mode": {
    "name": "ipython",
    "version": 3
   },
   "file_extension": ".py",
   "mimetype": "text/x-python",
   "name": "python",
   "nbconvert_exporter": "python",
   "pygments_lexer": "ipython3",
   "version": "3.9.20"
  }
 },
 "nbformat": 4,
 "nbformat_minor": 2
}
