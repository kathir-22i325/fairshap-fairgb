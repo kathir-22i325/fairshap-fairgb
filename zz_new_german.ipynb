{
 "cells": [
  {
   "cell_type": "markdown",
   "metadata": {},
   "source": [
    "# This notebook is for the Fair-Shapely experiment"
   ]
  },
  {
   "cell_type": "code",
   "execution_count": 2,
   "metadata": {},
   "outputs": [],
   "source": [
    "%reload_ext autoreload\n",
    "%autoreload 2"
   ]
  },
  {
   "cell_type": "markdown",
   "metadata": {},
   "source": [
    "### 1. Import libraries"
   ]
  },
  {
   "cell_type": "code",
   "execution_count": 3,
   "metadata": {},
   "outputs": [],
   "source": [
    "import pandas as pd\n",
    "import numpy as np\n",
    "from sklearn.model_selection import train_test_split\n",
    "from sklearn.linear_model import LogisticRegression\n",
    "from sklearn.ensemble import RandomForestClassifier\n",
    "from xgboost import XGBClassifier\n",
    "from sklearn.metrics import accuracy_score"
   ]
  },
  {
   "cell_type": "markdown",
   "metadata": {},
   "source": [
    "### 2. Import dataset"
   ]
  },
  {
   "cell_type": "code",
   "execution_count": 4,
   "metadata": {},
   "outputs": [
    {
     "name": "stdout",
     "output_type": "stream",
     "text": [
      "Age                   0\n",
      "Sex                   0\n",
      "Job                   0\n",
      "Housing               0\n",
      "Saving accounts     183\n",
      "Checking account    394\n",
      "Credit amount         0\n",
      "Duration              0\n",
      "Purpose               0\n",
      "Risk                  0\n",
      "dtype: int64\n"
     ]
    }
   ],
   "source": [
    "from src.data.unified_dataloader import load_dataset\n",
    "\n",
    "a, processed_german_credit = load_dataset('german_credit')\n",
    "# _, processed_uci = load_dataset('uci')"
   ]
  },
  {
   "cell_type": "code",
   "execution_count": 5,
   "metadata": {},
   "outputs": [
    {
     "data": {
      "text/html": [
       "<div>\n",
       "<style scoped>\n",
       "    .dataframe tbody tr th:only-of-type {\n",
       "        vertical-align: middle;\n",
       "    }\n",
       "\n",
       "    .dataframe tbody tr th {\n",
       "        vertical-align: top;\n",
       "    }\n",
       "\n",
       "    .dataframe thead th {\n",
       "        text-align: right;\n",
       "    }\n",
       "</style>\n",
       "<table border=\"1\" class=\"dataframe\">\n",
       "  <thead>\n",
       "    <tr style=\"text-align: right;\">\n",
       "      <th></th>\n",
       "      <th>Age</th>\n",
       "      <th>sex</th>\n",
       "      <th>Credit amount</th>\n",
       "      <th>Duration</th>\n",
       "      <th>Job_0</th>\n",
       "      <th>Job_1</th>\n",
       "      <th>Job_2</th>\n",
       "      <th>Job_3</th>\n",
       "      <th>Housing_free</th>\n",
       "      <th>Housing_own</th>\n",
       "      <th>...</th>\n",
       "      <th>Checking account_rich</th>\n",
       "      <th>Purpose_business</th>\n",
       "      <th>Purpose_car</th>\n",
       "      <th>Purpose_domestic appliances</th>\n",
       "      <th>Purpose_education</th>\n",
       "      <th>Purpose_furniture/equipment</th>\n",
       "      <th>Purpose_radio/TV</th>\n",
       "      <th>Purpose_repairs</th>\n",
       "      <th>Purpose_vacation/others</th>\n",
       "      <th>Risk</th>\n",
       "    </tr>\n",
       "  </thead>\n",
       "  <tbody>\n",
       "    <tr>\n",
       "      <th>0</th>\n",
       "      <td>2.766456</td>\n",
       "      <td>0</td>\n",
       "      <td>-0.745131</td>\n",
       "      <td>-1.236478</td>\n",
       "      <td>0</td>\n",
       "      <td>0</td>\n",
       "      <td>1</td>\n",
       "      <td>0</td>\n",
       "      <td>0</td>\n",
       "      <td>1</td>\n",
       "      <td>...</td>\n",
       "      <td>0</td>\n",
       "      <td>0</td>\n",
       "      <td>0</td>\n",
       "      <td>0</td>\n",
       "      <td>0</td>\n",
       "      <td>0</td>\n",
       "      <td>1</td>\n",
       "      <td>0</td>\n",
       "      <td>0</td>\n",
       "      <td>0</td>\n",
       "    </tr>\n",
       "    <tr>\n",
       "      <th>1</th>\n",
       "      <td>-1.191404</td>\n",
       "      <td>1</td>\n",
       "      <td>0.949817</td>\n",
       "      <td>2.248194</td>\n",
       "      <td>0</td>\n",
       "      <td>0</td>\n",
       "      <td>1</td>\n",
       "      <td>0</td>\n",
       "      <td>0</td>\n",
       "      <td>1</td>\n",
       "      <td>...</td>\n",
       "      <td>0</td>\n",
       "      <td>0</td>\n",
       "      <td>0</td>\n",
       "      <td>0</td>\n",
       "      <td>0</td>\n",
       "      <td>0</td>\n",
       "      <td>1</td>\n",
       "      <td>0</td>\n",
       "      <td>0</td>\n",
       "      <td>1</td>\n",
       "    </tr>\n",
       "    <tr>\n",
       "      <th>2</th>\n",
       "      <td>1.183312</td>\n",
       "      <td>0</td>\n",
       "      <td>-0.416562</td>\n",
       "      <td>-0.738668</td>\n",
       "      <td>0</td>\n",
       "      <td>1</td>\n",
       "      <td>0</td>\n",
       "      <td>0</td>\n",
       "      <td>0</td>\n",
       "      <td>1</td>\n",
       "      <td>...</td>\n",
       "      <td>0</td>\n",
       "      <td>0</td>\n",
       "      <td>0</td>\n",
       "      <td>0</td>\n",
       "      <td>1</td>\n",
       "      <td>0</td>\n",
       "      <td>0</td>\n",
       "      <td>0</td>\n",
       "      <td>0</td>\n",
       "      <td>0</td>\n",
       "    </tr>\n",
       "  </tbody>\n",
       "</table>\n",
       "<p>3 rows × 27 columns</p>\n",
       "</div>"
      ],
      "text/plain": [
       "        Age  sex  Credit amount  Duration  Job_0  Job_1  Job_2  Job_3  \\\n",
       "0  2.766456    0      -0.745131 -1.236478      0      0      1      0   \n",
       "1 -1.191404    1       0.949817  2.248194      0      0      1      0   \n",
       "2  1.183312    0      -0.416562 -0.738668      0      1      0      0   \n",
       "\n",
       "   Housing_free  Housing_own  ...  Checking account_rich  Purpose_business  \\\n",
       "0             0            1  ...                      0                 0   \n",
       "1             0            1  ...                      0                 0   \n",
       "2             0            1  ...                      0                 0   \n",
       "\n",
       "   Purpose_car  Purpose_domestic appliances  Purpose_education  \\\n",
       "0            0                            0                  0   \n",
       "1            0                            0                  0   \n",
       "2            0                            0                  1   \n",
       "\n",
       "   Purpose_furniture/equipment  Purpose_radio/TV  Purpose_repairs  \\\n",
       "0                            0                 1                0   \n",
       "1                            0                 1                0   \n",
       "2                            0                 0                0   \n",
       "\n",
       "   Purpose_vacation/others  Risk  \n",
       "0                        0     0  \n",
       "1                        0     1  \n",
       "2                        0     0  \n",
       "\n",
       "[3 rows x 27 columns]"
      ]
     },
     "execution_count": 5,
     "metadata": {},
     "output_type": "execute_result"
    }
   ],
   "source": [
    "processed_german_credit.head(3)"
   ]
  },
  {
   "cell_type": "markdown",
   "metadata": {},
   "source": [
    "### 3. Split label/unlabel data, split train/test data."
   ]
  },
  {
   "cell_type": "code",
   "execution_count": 6,
   "metadata": {},
   "outputs": [
    {
     "name": "stdout",
     "output_type": "stream",
     "text": [
      "X_train shape: (700, 26)\n",
      "X_test shape: (300, 26)\n"
     ]
    }
   ],
   "source": [
    "'''UCI dataset'''\n",
    "# df = processed_uci.copy()\n",
    "# X = df.drop('income', axis=1)\n",
    "# y = df['income']\n",
    "\n",
    "'''German Credit dataset'''\n",
    "df = processed_german_credit.copy()\n",
    "X = df.drop('Risk', axis=1)\n",
    "y = df['Risk']\n",
    "\n",
    "# into 70% training and 30% testing\n",
    "X_train, X_test, y_train, y_test = train_test_split(X, y, test_size=0.3, random_state=50) \n",
    "print(f'X_train shape: {X_train.shape}')\n",
    "print(f'X_test shape: {X_test.shape}')"
   ]
  },
  {
   "cell_type": "markdown",
   "metadata": {},
   "source": [
    "### 4. Train the original model"
   ]
  },
  {
   "cell_type": "code",
   "execution_count": 7,
   "metadata": {},
   "outputs": [
    {
     "name": "stdout",
     "output_type": "stream",
     "text": [
      "Accuracy: 0.66\n"
     ]
    }
   ],
   "source": [
    "model = XGBClassifier()  # 可以替换为 RandomForestClassifier() 等其他模型\n",
    "model.fit(X_train,y_train)\n",
    "\n",
    "# 预测和评估\n",
    "y_pred = model.predict(X_test)\n",
    "accuracy = accuracy_score(y_test, y_pred)\n",
    "print(f'Accuracy: {accuracy}')"
   ]
  },
  {
   "cell_type": "code",
   "execution_count": 8,
   "metadata": {},
   "outputs": [
    {
     "data": {
      "text/plain": [
       "sex\n",
       "0    482\n",
       "1    218\n",
       "Name: count, dtype: int64"
      ]
     },
     "execution_count": 8,
     "metadata": {},
     "output_type": "execute_result"
    }
   ],
   "source": [
    "X_train['sex'].value_counts()"
   ]
  },
  {
   "cell_type": "code",
   "execution_count": 9,
   "metadata": {},
   "outputs": [],
   "source": [
    "'''把X_train分成majority和minority两个部分'''\n",
    "\n",
    "male_condition = X_train['sex'] == 0\n",
    "X_train_majority = X_train[male_condition]\n",
    "y_train_majority = y_train[male_condition]\n",
    "\n",
    "female_condition = X_train['sex'] == 1\n",
    "X_train_minority = X_train[female_condition]\n",
    "y_train_minority = y_train[female_condition]"
   ]
  },
  {
   "cell_type": "markdown",
   "metadata": {},
   "source": [
    "### 5. Evaluate the performance of original model"
   ]
  },
  {
   "cell_type": "code",
   "execution_count": 10,
   "metadata": {},
   "outputs": [
    {
     "name": "stderr",
     "output_type": "stream",
     "text": [
      "c:\\Users\\ZhuLi\\Anaconda3\\envs\\unlabel_fair\\lib\\site-packages\\tqdm\\auto.py:21: TqdmWarning: IProgress not found. Please update jupyter and ipywidgets. See https://ipywidgets.readthedocs.io/en/stable/user_install.html\n",
      "  from .autonotebook import tqdm as notebook_tqdm\n"
     ]
    },
    {
     "name": "stdout",
     "output_type": "stream",
     "text": [
      "original_train_DR: 0.05932258442044258\n",
      "original_test_DR: 0.07642389833927155\n"
     ]
    }
   ],
   "source": [
    "from src.attribution.oracle_metric import perturb_numpy_ver\n",
    "from src.attribution import FairnessExplainer\n",
    "sen_att_name = [\"sex\"]\n",
    "sen_att = [X_train.columns.get_loc(name) for name in sen_att_name]\n",
    "priv_val = [1]\n",
    "unpriv_dict = [list(set(X_train.values[:, sa])) for sa in sen_att]\n",
    "for sa_list, pv in zip(unpriv_dict, priv_val):\n",
    "    sa_list.remove(pv)\n",
    "# print(f'sen_att_name:{sen_att_name}')\n",
    "# print(f'sen_att:{sen_att}') # index of sensitive attribute\n",
    "# print(f'priv_val:{priv_val}') # privileged value\n",
    "# print(f'unpriv_dict:{unpriv_dict}') # unprivileged value(all values in the sensitive attribute, except the privileged value)\n",
    "\n",
    "\n",
    "\n",
    "''' \n",
    "计算DR value的函数\n",
    "'''\n",
    "def fairness_value_function(sen_att, priv_val, unpriv_dict, X, model):\n",
    "    X_disturbed = perturb_numpy_ver(\n",
    "        X=X,\n",
    "        sen_att=sen_att,\n",
    "        priv_val=priv_val,\n",
    "        unpriv_dict=unpriv_dict,\n",
    "        ratio=1.0,\n",
    "    )\n",
    "    fx = model.predict_proba(X)[:, 1]\n",
    "    fx_q = model.predict_proba(X_disturbed)[:, 1]\n",
    "    return np.mean(np.abs(fx - fx_q))\n",
    "original_train_DR = fairness_value_function(sen_att, priv_val, unpriv_dict, X_train.values, model)\n",
    "print(f'original_train_DR: {original_train_DR}')\n",
    "original_test_DR = fairness_value_function(sen_att, priv_val, unpriv_dict, X_test.values, model)\n",
    "print(f'original_test_DR: {original_test_DR}')\n",
    "\n"
   ]
  },
  {
   "cell_type": "markdown",
   "metadata": {},
   "source": [
    "### 5. 把female和male匹配，（或者male和female匹配），然后进行修改，重新训练"
   ]
  },
  {
   "cell_type": "code",
   "execution_count": null,
   "metadata": {},
   "outputs": [
    {
     "name": "stdout",
     "output_type": "stream",
     "text": [
      "2. 初始化FairnessExplainer\n",
      "--------接下来先对minority group进行修改--------\n",
      "3(a). 将X_train_minority_label0与X_train_majority_label0进行匹配\n",
      "3(b). 将X_train_minority_label1与X_train_majority_label1进行匹配\n",
      "4(a). 使用fairshap, 从 X_train_majority_label0中找到合适的值替换X_train_minority_label0中的数据\n",
      "4(b). 使用fairshap, 从 X_train_majority_label1中找到合适的值替换X_train_minority_label1中的数据\n",
      "5. 计算出varphi和q\n",
      "在X_train_minority中shapely value中大于0.1的值的个数有: 50\n",
      "--------接下来对majority group进行修改--------\n",
      "3(a). 将X_train_majority_label0与X_train_minority_label0进行匹配\n",
      "3(b). 将X_train_majority_label1与X_train_minority_label1进行匹配\n",
      "4(a). 使用fairshap, 从 X_train_minority_label0中找到合适的值替换X_train_majority_label0中的数据\n",
      "4(b). 使用fairshap, 从 X_train_minority_label1中找到合适的值替换X_train_majority_label1中的数据\n",
      "5. 计算出varphi和q\n",
      "在X_train_majority中shapely value中大于0.1的值的个数有: 57\n",
      "6. 开始整理minority部分的修改和majority部分的修改并且合并新数据,共修改107个数据点, 使用new training set训练新模型\n"
     ]
    },
    {
     "data": {
      "image/png": "[encoded data removed]",
      "text/plain": [
       "<Figure size 1000x600 with 1 Axes>"
      ]
     },
     "metadata": {},
     "output_type": "display_data"
    },
    {
     "data": {
      "image/png": "[encoded data removed]",
      "text/plain": [
       "<Figure size 1000x600 with 2 Axes>"
      ]
     },
     "metadata": {},
     "output_type": "display_data"
    },
    {
     "data": {
      "text/plain": [
       "([0.0686235,\n",
       "  0.08797629,\n",
       "  0.0895453,\n",
       "  0.071643144,\n",
       "  0.059667747,\n",
       "  0.0695531,\n",
       "  0.072092675,\n",
       "  0.079568274,\n",
       "  0.07981,\n",
       "  0.07650253,\n",
       "  0.07955092,\n",
       "  0.08263057,\n",
       "  0.075211205,\n",
       "  0.08518117,\n",
       "  0.0708597,\n",
       "  0.070744455,\n",
       "  0.07767628,\n",
       "  0.07673229,\n",
       "  0.06641756,\n",
       "  0.079054855,\n",
       "  0.072331324,\n",
       "  0.07862844,\n",
       "  0.074448064,\n",
       "  0.07905737,\n",
       "  0.0749599,\n",
       "  0.07532473,\n",
       "  0.06744952,\n",
       "  0.06426206,\n",
       "  0.07258631,\n",
       "  0.08196361,\n",
       "  0.06615246,\n",
       "  0.07549388,\n",
       "  0.06952469,\n",
       "  0.0721338,\n",
       "  0.07087573,\n",
       "  0.07486761,\n",
       "  0.07498458,\n",
       "  0.058310844,\n",
       "  0.048641738,\n",
       "  0.06325275,\n",
       "  0.06606259,\n",
       "  0.066775866,\n",
       "  0.07096021,\n",
       "  0.06362082,\n",
       "  0.05822968,\n",
       "  0.0693833,\n",
       "  0.046668142,\n",
       "  0.054342695,\n",
       "  0.05626738,\n",
       "  0.056345843,\n",
       "  0.05718172,\n",
       "  0.05950725,\n",
       "  0.07018425,\n",
       "  0.05498539,\n",
       "  0.046917148,\n",
       "  0.058951315,\n",
       "  0.04522966,\n",
       "  0.05700414,\n",
       "  0.055299923,\n",
       "  0.04621516,\n",
       "  0.057048034,\n",
       "  0.058528367,\n",
       "  0.060662586,\n",
       "  0.060577393,\n",
       "  0.05227199,\n",
       "  0.048975512,\n",
       "  0.055349223,\n",
       "  0.051674828,\n",
       "  0.048823476,\n",
       "  0.0515656,\n",
       "  0.052849617,\n",
       "  0.049531076,\n",
       "  0.052750498,\n",
       "  0.037512053,\n",
       "  0.038326807,\n",
       "  0.060265515,\n",
       "  0.04437038,\n",
       "  0.03861556,\n",
       "  0.034458917,\n",
       "  0.035055906,\n",
       "  0.034306627,\n",
       "  0.042134102,\n",
       "  0.03991521,\n",
       "  0.037037615,\n",
       "  0.04706808,\n",
       "  0.048363745,\n",
       "  0.060383614,\n",
       "  0.03677892,\n",
       "  0.03493457,\n",
       "  0.03232262,\n",
       "  0.042682663,\n",
       "  0.041196633,\n",
       "  0.035566367,\n",
       "  0.034517583,\n",
       "  0.044222496,\n",
       "  0.032425087,\n",
       "  0.03567142,\n",
       "  0.03259538,\n",
       "  0.044145368,\n",
       "  0.03553747,\n",
       "  0.03543308,\n",
       "  0.025206624,\n",
       "  0.027197227,\n",
       "  0.029989356,\n",
       "  0.024182625,\n",
       "  0.030205084],\n",
       " [(0.0686235, 0.6633333333333333, 1),\n",
       "  (0.071643144, 0.6666666666666666, 4),\n",
       "  (0.059667747, 0.7, 5),\n",
       "  (0.0695531, 0.6933333333333334, 6),\n",
       "  (0.072092675, 0.6666666666666666, 7),\n",
       "  (0.075211205, 0.68, 13),\n",
       "  (0.0708597, 0.67, 15),\n",
       "  (0.070744455, 0.6666666666666666, 16),\n",
       "  (0.06641756, 0.6566666666666666, 19),\n",
       "  (0.072331324, 0.6733333333333333, 21),\n",
       "  (0.074448064, 0.6766666666666666, 23),\n",
       "  (0.0749599, 0.68, 25),\n",
       "  (0.07532473, 0.67, 26),\n",
       "  (0.06744952, 0.68, 27),\n",
       "  (0.06426206, 0.6766666666666666, 28),\n",
       "  (0.07258631, 0.67, 29),\n",
       "  (0.06615246, 0.6933333333333334, 31),\n",
       "  (0.07549388, 0.65, 32),\n",
       "  (0.06952469, 0.69, 33),\n",
       "  (0.0721338, 0.6533333333333333, 34),\n",
       "  (0.07087573, 0.6866666666666666, 35),\n",
       "  (0.07486761, 0.6866666666666666, 36),\n",
       "  (0.07498458, 0.6433333333333333, 37),\n",
       "  (0.058310844, 0.6566666666666666, 38),\n",
       "  (0.048641738, 0.6566666666666666, 39),\n",
       "  (0.06325275, 0.66, 40),\n",
       "  (0.06606259, 0.6333333333333333, 41),\n",
       "  (0.066775866, 0.6666666666666666, 42),\n",
       "  (0.07096021, 0.6533333333333333, 43),\n",
       "  (0.06362082, 0.6666666666666666, 44),\n",
       "  (0.05822968, 0.6633333333333333, 45),\n",
       "  (0.0693833, 0.6666666666666666, 46),\n",
       "  (0.046668142, 0.65, 47),\n",
       "  (0.054342695, 0.6733333333333333, 48),\n",
       "  (0.05626738, 0.6766666666666666, 49),\n",
       "  (0.056345843, 0.6666666666666666, 50),\n",
       "  (0.05718172, 0.68, 51),\n",
       "  (0.05950725, 0.6566666666666666, 52),\n",
       "  (0.07018425, 0.6533333333333333, 53),\n",
       "  (0.05498539, 0.6533333333333333, 54),\n",
       "  (0.046917148, 0.6566666666666666, 55),\n",
       "  (0.058951315, 0.6733333333333333, 56),\n",
       "  (0.04522966, 0.6833333333333333, 57),\n",
       "  (0.05700414, 0.65, 58),\n",
       "  (0.055299923, 0.68, 59),\n",
       "  (0.04621516, 0.6866666666666666, 60),\n",
       "  (0.057048034, 0.6866666666666666, 61),\n",
       "  (0.058528367, 0.68, 62),\n",
       "  (0.060662586, 0.64, 63),\n",
       "  (0.060577393, 0.67, 64),\n",
       "  (0.05227199, 0.6466666666666666, 65),\n",
       "  (0.048975512, 0.6666666666666666, 66),\n",
       "  (0.055349223, 0.6633333333333333, 67),\n",
       "  (0.051674828, 0.6733333333333333, 68),\n",
       "  (0.048823476, 0.6766666666666666, 69),\n",
       "  (0.0515656, 0.67, 70),\n",
       "  (0.052849617, 0.6933333333333334, 71),\n",
       "  (0.049531076, 0.6733333333333333, 72),\n",
       "  (0.052750498, 0.67, 73),\n",
       "  (0.037512053, 0.6833333333333333, 74),\n",
       "  (0.038326807, 0.6666666666666666, 75),\n",
       "  (0.060265515, 0.68, 76),\n",
       "  (0.04437038, 0.6466666666666666, 77),\n",
       "  (0.03861556, 0.6566666666666666, 78),\n",
       "  (0.034458917, 0.67, 79),\n",
       "  (0.035055906, 0.67, 80),\n",
       "  (0.034306627, 0.6733333333333333, 81),\n",
       "  (0.042134102, 0.6766666666666666, 82),\n",
       "  (0.03991521, 0.67, 83),\n",
       "  (0.037037615, 0.69, 84),\n",
       "  (0.04706808, 0.6866666666666666, 85),\n",
       "  (0.048363745, 0.6833333333333333, 86),\n",
       "  (0.060383614, 0.6733333333333333, 87),\n",
       "  (0.03677892, 0.6833333333333333, 88),\n",
       "  (0.03493457, 0.6866666666666666, 89),\n",
       "  (0.03232262, 0.6833333333333333, 90),\n",
       "  (0.042682663, 0.68, 91),\n",
       "  (0.041196633, 0.66, 92),\n",
       "  (0.035566367, 0.6866666666666666, 93),\n",
       "  (0.034517583, 0.6633333333333333, 94),\n",
       "  (0.044222496, 0.67, 95),\n",
       "  (0.032425087, 0.66, 96),\n",
       "  (0.03567142, 0.66, 97),\n",
       "  (0.03259538, 0.6533333333333333, 98),\n",
       "  (0.044145368, 0.6766666666666666, 99),\n",
       "  (0.03553747, 0.6566666666666666, 100),\n",
       "  (0.03543308, 0.6666666666666666, 101),\n",
       "  (0.025206624, 0.67, 102),\n",
       "  (0.027197227, 0.6533333333333333, 103),\n",
       "  (0.029989356, 0.66, 104),\n",
       "  (0.024182625, 0.6666666666666666, 105),\n",
       "  (0.030205084, 0.66, 106)])"
      ]
     },
     "execution_count": 11,
     "metadata": {},
     "output_type": "execute_result"
    }
   ],
   "source": [
    "from src.experiments import Experiment\n",
    "\n",
    "experiment = Experiment(\n",
    "                            model,\n",
    "                            X_train_majority,\n",
    "                            y_train_majority,\n",
    "                            X_train_minority,\n",
    "                            y_train_minority,\n",
    "                            X_test,\n",
    "                            y_test,\n",
    "                            dataset_name='german_credit',\n",
    "                            original_Xtest_DR = original_test_DR,\n",
    "                            original_Xtest_acc = accuracy,\n",
    "                            )\n",
    "experiment.run_experiment()\n"
   ]
  },
  {
   "cell_type": "code",
   "execution_count": 22,
   "metadata": {},
   "outputs": [
    {
     "data": {
      "text/plain": [
       "' Experiment new\\n\\n1. 从majority parity(此处男性)中随机选择30%, 50%, 70%的比例，作为将被替换的数据集X_train_replace_majority,剩余部分为X_train_rest_majority\\n2. 将X_train_minority与X_train_replace_majority进行匹配\\n3. 使用fairshap,把X_train_minority作为baseline dataset，找到X_train_replace_majority中需要替换的数据，假设总共需要替换n个数据点\\n4. (1,n,20)根据这些,分别计算替换(1,n)中不同个数的结果,把需要替换的数据替换到X_train_replace_majority中,得到X_train_replace_majority_new\\n5. 把X_train_replace_majority_new和X_train_rest_majority,还有X_train_minority合并,得到新的X_train_new，然后重新训练，得到新的模型model_new，计算新的DR值\\n\\n----------   循环 30%, 50%, 70%的比例，以及不同的n值，得到DR值的变化  -------------------\\n'"
      ]
     },
     "execution_count": 22,
     "metadata": {},
     "output_type": "execute_result"
    }
   ],
   "source": [
    "''' Experiment new\n",
    "\n",
    "1. 从majority parity(此处男性)中随机选择30%, 50%, 70%的比例，作为将被替换的数据集X_train_replace_majority,剩余部分为X_train_rest_majority\n",
    "2. 将X_train_minority与X_train_replace_majority进行匹配\n",
    "3. 使用fairshap,把X_train_minority作为baseline dataset，找到X_train_replace_majority中需要替换的数据，假设总共需要替换n个数据点\n",
    "4. (1,n,20)根据这些,分别计算替换(1,n)中不同个数的结果,把需要替换的数据替换到X_train_replace_majority中,得到X_train_replace_majority_new\n",
    "5. 把X_train_replace_majority_new和X_train_rest_majority,还有X_train_minority合并,得到新的X_train_new，然后重新训练，得到新的模型model_new，计算新的DR值\n",
    "\n",
    "----------   循环 30%, 50%, 70%的比例，以及不同的n值，得到DR值的变化  -------------------\n",
    "'''"
   ]
  }
 ],
 "metadata": {
  "kernelspec": {
   "display_name": "unlabel_fair",
   "language": "python",
   "name": "python3"
  },
  "language_info": {
   "codemirror_mode": {
    "name": "ipython",
    "version": 3
   },
   "file_extension": ".py",
   "mimetype": "text/x-python",
   "name": "python",
   "nbconvert_exporter": "python",
   "pygments_lexer": "ipython3",
   "version": "3.9.20"
  }
 },
 "nbformat": 4,
 "nbformat_minor": 2
}
