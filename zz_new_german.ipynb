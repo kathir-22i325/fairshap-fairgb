{
 "cells": [
  {
   "cell_type": "markdown",
   "metadata": {},
   "source": [
    "# This notebook is for the Fair-Shapely experiment"
   ]
  },
  {
   "cell_type": "code",
   "execution_count": 6,
   "metadata": {},
   "outputs": [],
   "source": [
    "%reload_ext autoreload\n",
    "%autoreload 2"
   ]
  },
  {
   "cell_type": "markdown",
   "metadata": {},
   "source": [
    "### 1. Import libraries"
   ]
  },
  {
   "cell_type": "code",
   "execution_count": 7,
   "metadata": {},
   "outputs": [],
   "source": [
    "import pandas as pd\n",
    "import numpy as np\n",
    "from sklearn.model_selection import train_test_split\n",
    "from sklearn.linear_model import LogisticRegression\n",
    "from sklearn.ensemble import RandomForestClassifier\n",
    "from xgboost import XGBClassifier\n",
    "from sklearn.metrics import accuracy_score"
   ]
  },
  {
   "cell_type": "markdown",
   "metadata": {},
   "source": [
    "### 2. Import dataset"
   ]
  },
  {
   "cell_type": "code",
   "execution_count": 9,
   "metadata": {},
   "outputs": [
    {
     "name": "stdout",
     "output_type": "stream",
     "text": [
      "Age                   0\n",
      "Sex                   0\n",
      "Job                   0\n",
      "Housing               0\n",
      "Saving accounts     183\n",
      "Checking account    394\n",
      "Credit amount         0\n",
      "Duration              0\n",
      "Purpose               0\n",
      "Risk                  0\n",
      "dtype: int64\n"
     ]
    }
   ],
   "source": [
    "from src.data.unified_dataloader import load_dataset\n",
    "\n",
    "a, processed_german_credit = load_dataset('german_credit')\n",
    "# _, processed_uci = load_dataset('uci')"
   ]
  },
  {
   "cell_type": "code",
   "execution_count": 10,
   "metadata": {},
   "outputs": [
    {
     "data": {
      "text/html": [
       "<div>\n",
       "<style scoped>\n",
       "    .dataframe tbody tr th:only-of-type {\n",
       "        vertical-align: middle;\n",
       "    }\n",
       "\n",
       "    .dataframe tbody tr th {\n",
       "        vertical-align: top;\n",
       "    }\n",
       "\n",
       "    .dataframe thead th {\n",
       "        text-align: right;\n",
       "    }\n",
       "</style>\n",
       "<table border=\"1\" class=\"dataframe\">\n",
       "  <thead>\n",
       "    <tr style=\"text-align: right;\">\n",
       "      <th></th>\n",
       "      <th>Age</th>\n",
       "      <th>sex</th>\n",
       "      <th>Credit amount</th>\n",
       "      <th>Duration</th>\n",
       "      <th>Job_0</th>\n",
       "      <th>Job_1</th>\n",
       "      <th>Job_2</th>\n",
       "      <th>Job_3</th>\n",
       "      <th>Housing_free</th>\n",
       "      <th>Housing_own</th>\n",
       "      <th>...</th>\n",
       "      <th>Checking account_rich</th>\n",
       "      <th>Purpose_business</th>\n",
       "      <th>Purpose_car</th>\n",
       "      <th>Purpose_domestic appliances</th>\n",
       "      <th>Purpose_education</th>\n",
       "      <th>Purpose_furniture/equipment</th>\n",
       "      <th>Purpose_radio/TV</th>\n",
       "      <th>Purpose_repairs</th>\n",
       "      <th>Purpose_vacation/others</th>\n",
       "      <th>Risk</th>\n",
       "    </tr>\n",
       "  </thead>\n",
       "  <tbody>\n",
       "    <tr>\n",
       "      <th>0</th>\n",
       "      <td>2.766456</td>\n",
       "      <td>0</td>\n",
       "      <td>-0.745131</td>\n",
       "      <td>-1.236478</td>\n",
       "      <td>0</td>\n",
       "      <td>0</td>\n",
       "      <td>1</td>\n",
       "      <td>0</td>\n",
       "      <td>0</td>\n",
       "      <td>1</td>\n",
       "      <td>...</td>\n",
       "      <td>0</td>\n",
       "      <td>0</td>\n",
       "      <td>0</td>\n",
       "      <td>0</td>\n",
       "      <td>0</td>\n",
       "      <td>0</td>\n",
       "      <td>1</td>\n",
       "      <td>0</td>\n",
       "      <td>0</td>\n",
       "      <td>0</td>\n",
       "    </tr>\n",
       "    <tr>\n",
       "      <th>1</th>\n",
       "      <td>-1.191404</td>\n",
       "      <td>1</td>\n",
       "      <td>0.949817</td>\n",
       "      <td>2.248194</td>\n",
       "      <td>0</td>\n",
       "      <td>0</td>\n",
       "      <td>1</td>\n",
       "      <td>0</td>\n",
       "      <td>0</td>\n",
       "      <td>1</td>\n",
       "      <td>...</td>\n",
       "      <td>0</td>\n",
       "      <td>0</td>\n",
       "      <td>0</td>\n",
       "      <td>0</td>\n",
       "      <td>0</td>\n",
       "      <td>0</td>\n",
       "      <td>1</td>\n",
       "      <td>0</td>\n",
       "      <td>0</td>\n",
       "      <td>1</td>\n",
       "    </tr>\n",
       "    <tr>\n",
       "      <th>2</th>\n",
       "      <td>1.183312</td>\n",
       "      <td>0</td>\n",
       "      <td>-0.416562</td>\n",
       "      <td>-0.738668</td>\n",
       "      <td>0</td>\n",
       "      <td>1</td>\n",
       "      <td>0</td>\n",
       "      <td>0</td>\n",
       "      <td>0</td>\n",
       "      <td>1</td>\n",
       "      <td>...</td>\n",
       "      <td>0</td>\n",
       "      <td>0</td>\n",
       "      <td>0</td>\n",
       "      <td>0</td>\n",
       "      <td>1</td>\n",
       "      <td>0</td>\n",
       "      <td>0</td>\n",
       "      <td>0</td>\n",
       "      <td>0</td>\n",
       "      <td>0</td>\n",
       "    </tr>\n",
       "  </tbody>\n",
       "</table>\n",
       "<p>3 rows × 27 columns</p>\n",
       "</div>"
      ],
      "text/plain": [
       "        Age  sex  Credit amount  Duration  Job_0  Job_1  Job_2  Job_3  \\\n",
       "0  2.766456    0      -0.745131 -1.236478      0      0      1      0   \n",
       "1 -1.191404    1       0.949817  2.248194      0      0      1      0   \n",
       "2  1.183312    0      -0.416562 -0.738668      0      1      0      0   \n",
       "\n",
       "   Housing_free  Housing_own  ...  Checking account_rich  Purpose_business  \\\n",
       "0             0            1  ...                      0                 0   \n",
       "1             0            1  ...                      0                 0   \n",
       "2             0            1  ...                      0                 0   \n",
       "\n",
       "   Purpose_car  Purpose_domestic appliances  Purpose_education  \\\n",
       "0            0                            0                  0   \n",
       "1            0                            0                  0   \n",
       "2            0                            0                  1   \n",
       "\n",
       "   Purpose_furniture/equipment  Purpose_radio/TV  Purpose_repairs  \\\n",
       "0                            0                 1                0   \n",
       "1                            0                 1                0   \n",
       "2                            0                 0                0   \n",
       "\n",
       "   Purpose_vacation/others  Risk  \n",
       "0                        0     0  \n",
       "1                        0     1  \n",
       "2                        0     0  \n",
       "\n",
       "[3 rows x 27 columns]"
      ]
     },
     "execution_count": 10,
     "metadata": {},
     "output_type": "execute_result"
    }
   ],
   "source": [
    "processed_german_credit.head(3)"
   ]
  },
  {
   "cell_type": "markdown",
   "metadata": {},
   "source": [
    "### 3. Split label/unlabel data, split train/test data."
   ]
  },
  {
   "cell_type": "code",
   "execution_count": 12,
   "metadata": {},
   "outputs": [
    {
     "name": "stdout",
     "output_type": "stream",
     "text": [
      "X_train shape: (700, 26)\n",
      "X_test shape: (300, 26)\n"
     ]
    }
   ],
   "source": [
    "'''UCI dataset'''\n",
    "# df = processed_uci.copy()\n",
    "# X = df.drop('income', axis=1)\n",
    "# y = df['income']\n",
    "\n",
    "'''German Credit dataset'''\n",
    "df = processed_german_credit.copy()\n",
    "X = df.drop('Risk', axis=1)\n",
    "y = df['Risk']\n",
    "\n",
    "# into 70% training and 30% testing\n",
    "X_train, X_test, y_train, y_test = train_test_split(X, y, test_size=0.3, random_state=25) \n",
    "print(f'X_train shape: {X_train.shape}')\n",
    "print(f'X_test shape: {X_test.shape}')"
   ]
  },
  {
   "cell_type": "markdown",
   "metadata": {},
   "source": [
    "### 4. Train the original model"
   ]
  },
  {
   "cell_type": "code",
   "execution_count": 13,
   "metadata": {},
   "outputs": [
    {
     "name": "stdout",
     "output_type": "stream",
     "text": [
      "Accuracy: 0.6766666666666666\n"
     ]
    }
   ],
   "source": [
    "model = XGBClassifier()  # 可以替换为 RandomForestClassifier() 等其他模型\n",
    "model.fit(X_train,y_train)\n",
    "\n",
    "# 预测和评估\n",
    "y_pred = model.predict(X_test)\n",
    "accuracy = accuracy_score(y_test, y_pred)\n",
    "print(f'Accuracy: {accuracy}')"
   ]
  },
  {
   "cell_type": "code",
   "execution_count": 14,
   "metadata": {},
   "outputs": [
    {
     "data": {
      "text/plain": [
       "sex\n",
       "0    479\n",
       "1    221\n",
       "Name: count, dtype: int64"
      ]
     },
     "execution_count": 14,
     "metadata": {},
     "output_type": "execute_result"
    }
   ],
   "source": [
    "X_train['sex'].value_counts()"
   ]
  },
  {
   "cell_type": "code",
   "execution_count": 28,
   "metadata": {},
   "outputs": [],
   "source": [
    "male_condition = X_train['sex'] == 0\n",
    "X_train_majority = X_train[male_condition]\n",
    "y_train_majority = y_train[male_condition]\n",
    "\n",
    "female_condition = X_train['sex'] == 1\n",
    "X_train_minority = X_train[female_condition]\n",
    "y_train_minority = y_train[female_condition]"
   ]
  },
  {
   "cell_type": "markdown",
   "metadata": {},
   "source": [
    "### 5. Evaluate the performance of original model"
   ]
  },
  {
   "cell_type": "code",
   "execution_count": null,
   "metadata": {},
   "outputs": [
    {
     "name": "stdout",
     "output_type": "stream",
     "text": [
      "original_DR: 0.05330166965723038\n"
     ]
    }
   ],
   "source": [
    "from src.attribution.oracle_metric import perturb_numpy_ver\n",
    "from src.attribution import FairnessExplainer\n",
    "sen_att_name = [\"sex\"]\n",
    "sen_att = [X_train.columns.get_loc(name) for name in sen_att_name]\n",
    "priv_val = [1]\n",
    "unpriv_dict = [list(set(X_train.values[:, sa])) for sa in sen_att]\n",
    "for sa_list, pv in zip(unpriv_dict, priv_val):\n",
    "    sa_list.remove(pv)\n",
    "# print(f'sen_att_name:{sen_att_name}')\n",
    "# print(f'sen_att:{sen_att}') # index of sensitive attribute\n",
    "# print(f'priv_val:{priv_val}') # privileged value\n",
    "# print(f'unpriv_dict:{unpriv_dict}') # unprivileged value(all values in the sensitive attribute, except the privileged value)\n",
    "\n",
    "\n",
    "\n",
    "''' \n",
    "计算DR value的函数\n",
    "'''\n",
    "def fairness_value_function(sen_att, priv_val, unpriv_dict, X, model):\n",
    "    X_disturbed = perturb_numpy_ver(\n",
    "        X=X,\n",
    "        sen_att=sen_att,\n",
    "        priv_val=priv_val,\n",
    "        unpriv_dict=unpriv_dict,\n",
    "        ratio=1.0,\n",
    "    )\n",
    "    fx = model.predict_proba(X)[:, 1]\n",
    "    fx_q = model.predict_proba(X_disturbed)[:, 1]\n",
    "    return np.mean(np.abs(fx - fx_q))\n",
    "original_DR = fairness_value_function(sen_att, priv_val, unpriv_dict, X_test.values, model)\n",
    "print(f'original_DR: {original_DR}')"
   ]
  },
  {
   "cell_type": "markdown",
   "metadata": {},
   "source": [
    "### 5. 把female和male匹配，（或者male和female匹配），然后进行修改，重新训练"
   ]
  },
  {
   "cell_type": "code",
   "execution_count": 30,
   "metadata": {},
   "outputs": [],
   "source": [
    "import numpy as np\n",
    "import pandas as pd\n",
    "import matplotlib.pyplot as plt\n",
    "import copy\n",
    "from typing import Tuple, List, Dict\n",
    "from xgboost import XGBClassifier\n",
    "import pdb\n",
    "from sklearn.metrics import accuracy_score\n",
    "from src.matching.ot_matcher import OptimalTransportPolicy\n",
    "from src.matching.nn_matcher import NearestNeighborDataMatcher\n",
    "from src.attribution import FairnessExplainer\n",
    "from src.composition.data_composer import DataComposer\n",
    "from src.attribution.oracle_metric import perturb_numpy_ver"
   ]
  },
  {
   "cell_type": "code",
   "execution_count": 45,
   "metadata": {},
   "outputs": [],
   "source": [
    "def fix_negative_probabilities(varphi):\n",
    "    \"\"\"\n",
    "    Fix the probability distribution by:\n",
    "    1. Setting negative values to 0.\n",
    "    2. Normalizing the probabilities to sum to 1.\n",
    "    \"\"\"\n",
    "    # Step 1: Set negative values to 0\n",
    "    varphi = np.maximum(varphi, 0)\n",
    "    \n",
    "    # Step 2: Normalize to make the sum equal to 1\n",
    "    total_prob = varphi.sum()\n",
    "    if total_prob == 0:\n",
    "        raise ValueError(\"All probabilities are zero after fixing negative values.\")\n",
    "    \n",
    "    varphi = varphi / total_prob\n",
    "    return varphi"
   ]
  },
  {
   "cell_type": "code",
   "execution_count": 31,
   "metadata": {},
   "outputs": [
    {
     "name": "stdout",
     "output_type": "stream",
     "text": [
      "X_train.shape: (700, 26)\n",
      "X_train_majority.shape: (479, 26)\n",
      "X_train_minority.shape: (221, 26)\n"
     ]
    }
   ],
   "source": [
    "print(f'X_train.shape: {X_train.shape}')\n",
    "print(f'X_train_majority.shape: {X_train_majority.shape}')\n",
    "print(f'X_train_minority.shape: {X_train_minority.shape}')"
   ]
  },
  {
   "cell_type": "code",
   "execution_count": 25,
   "metadata": {},
   "outputs": [
    {
     "data": {
      "text/plain": [
       "' Experiment new\\n\\n1. 从多数群体(男性)中随机选择30%, 50%, 70%的比例，作为将被替换的数据集X\\n1. female(少数)和male(多数)进行匹配\\n\\n'"
      ]
     },
     "execution_count": 25,
     "metadata": {},
     "output_type": "execute_result"
    }
   ],
   "source": [
    "''' Experiment new\n",
    "\n",
    "1. 从majority parity(此处男性)中随机选择30%, 50%, 70%的比例，作为将被替换的数据集X_train_replace_majority,剩余部分为X_train_rest_majority\n",
    "2. 将X_train_minority与X_train_replace_majority进行匹配\n",
    "3. 使用fairshap,把X_train_minority作为baseline dataset，找到X_train_replace_majority中需要替换的数据，假设总共需要替换n个数据点\n",
    "4. (1,n,20)根据这些,分别计算替换(1,n)中不同个数的结果,把需要替换的数据替换到X_train_replace_majority中,得到X_train_replace_majority_new\n",
    "5. 把X_train_replace_majority_new和X_train_rest_majority,还有X_train_minority合并,得到新的X_train_new，然后重新训练，得到新的模型model_new，计算新的DR值\n",
    "\n",
    "----------   循环 30%, 50%, 70%的比例，以及不同的n值，得到DR值的变化  -------------------\n",
    "'''"
   ]
  },
  {
   "cell_type": "code",
   "execution_count": 39,
   "metadata": {},
   "outputs": [
    {
     "data": {
      "text/plain": [
       "(96, 221)"
      ]
     },
     "execution_count": 39,
     "metadata": {},
     "output_type": "execute_result"
    }
   ],
   "source": [
    "# 1. 从majority parity(此处男性)中随机选择30%, 50%, 70%的比例，作为将被替换的数据集X_train_replace_majority,剩余部分为X_train_rest_majority\n",
    "proportion = 0.2\n",
    "X_train_replace_majority = X_train_majority.sample(frac=proportion, random_state=20)\n",
    "X_train_rest_majority = X_train_majority.drop(X_train_replace_majority.index)\n",
    "\n",
    "y_train_replace_majority = y_train_majority.loc[X_train_replace_majority.index]\n",
    "y_train_rest_majority = y_train_majority.drop(X_train_replace_majority.index)\n",
    "\n",
    "# 2. 将X_train_minority与X_train_replace_majority进行匹配\n",
    "matching = NearestNeighborDataMatcher(X_labeled=X_train_replace_majority, X_unlabeled=X_train_minority).match(n_neighbors=1)\n",
    "matching.shape"
   ]
  },
  {
   "cell_type": "code",
   "execution_count": 58,
   "metadata": {},
   "outputs": [
    {
     "name": "stdout",
     "output_type": "stream",
     "text": [
      "总共可以替换的点数:173\n"
     ]
    }
   ],
   "source": [
    "# 3. 使用fairshap,把X_train_minority作为baseline dataset，找到X_train_replace_majority中需要替换的数据，假设总共需要替换n个数据点\n",
    "fairness_explainer_original = FairnessExplainer(\n",
    "    model=model, \n",
    "    sen_att=sen_att, \n",
    "    priv_val=priv_val, \n",
    "    unpriv_dict=unpriv_dict\n",
    "    )\n",
    "fairness_shapley_value = fairness_explainer_original.shap_values(\n",
    "                            X = X_train_replace_majority.values,\n",
    "                            X_baseline = X_train_minority.values,\n",
    "                            matching=matching,\n",
    "                            sample_size=500,\n",
    "                            shap_sample_size=\"auto\",\n",
    "                        )\n",
    "varphi = fix_negative_probabilities(fairness_shapley_value)\n",
    "non_zero_count =np.count_nonzero(varphi)\n",
    "print(f'总共可以替换的点数:{non_zero_count}')\n",
    "\n",
    "q = DataComposer(\n",
    "                x_counterfactual=X_train_minority.values, \n",
    "                joint_prob=matching, \n",
    "                method=\"max\").calculate_q()    # q是与X_train_replace_majority匹配的X_train_minority中的数据"
   ]
  },
  {
   "cell_type": "code",
   "execution_count": 59,
   "metadata": {},
   "outputs": [],
   "source": [
    "# 4. (1,n,20)根据这些,分别计算替换(1,n)中不同个数的结果,把需要替换的数据替换到X_train_replace_majority中,得到X_train_replace_majority_new\n",
    "gap = 10\n",
    "values_range = np.arange(1, non_zero_count, 10)\n",
    "after_values = []\n",
    "fairness_accuracy_pairs = []\n",
    "for action_number in values_range:\n",
    "\n",
    "\n",
    "    # Step 1: 将 varphi 的值和位置展开为一维\n",
    "    flat_varphi = [(value, row, col) for row, row_vals in enumerate(varphi)\n",
    "                for col, value in enumerate(row_vals)]\n",
    "\n",
    "    # Step 2: 按值降序排序\n",
    "    flat_varphi_sorted = sorted(flat_varphi, key=lambda x: x[0], reverse=True)\n",
    "\n",
    "    # Step 3: 挑出前 action_number 个数的位置\n",
    "    top_positions = flat_varphi_sorted[:action_number]\n",
    "\n",
    "    # Step 4: 替换 X 中前三列的值为 S 中对应位置的值\n",
    "    for value, row_idx, col_idx in top_positions:\n",
    "        X_train_replace_majority.iloc[row_idx, col_idx] = q[row_idx, col_idx]\n",
    "    \n",
    "    # Step 5: 合并数据集\n",
    "    X_Train_New = pd.concat([X_train_replace_majority,X_train_rest_majority, X_train_minority], axis=0)\n",
    "    y_train_new = pd.concat([y_train_replace_majority, y_train_rest_majority, y_train_minority], axis=0)\n",
    "    # Step 6: Train and evaluate model\n",
    "    x = X_Train_New\n",
    "    y = y_train_new\n",
    "    \n",
    "    model_new = XGBClassifier()\n",
    "    model_new.fit(x, y)\n",
    "    \n",
    "    # 计算fairness values\n",
    "    sen_att_name = ['sex']\n",
    "    sen_att = [X_train.columns.get_loc(name) for name in sen_att_name]\n",
    "    priv_val = [1]\n",
    "    unpriv_dict = [list(set(X_train.values[:, sa])) for sa in sen_att]\n",
    "    for sa_list, pv in zip(unpriv_dict, priv_val):\n",
    "        sa_list.remove(pv)\n",
    "    after = fairness_value_function(sen_att, priv_val, unpriv_dict, X_test.values, model_new)\n",
    "    after_values.append(after)\n",
    "    original_DR = 0.05330166965723038\n",
    "    if after < original_DR:\n",
    "        y_new_pred = model_new.predict(X_test)\n",
    "        accuracy_new = accuracy_score(y_test, y_new_pred)\n",
    "        fairness_accuracy_pairs.append((after, accuracy_new, action_number))  # Store both values as a tuple"
   ]
  },
  {
   "cell_type": "code",
   "execution_count": null,
   "metadata": {},
   "outputs": [],
   "source": [
    "plt.figure(figsize=(10, 6))\n",
    "\n",
    "plt.scatter(values_range, after_values, label='New model', marker='x')\n",
    "plt.axhline(y=original_DR, color='r', linestyle='--', label='Original DR')\n",
    "plt.title(f'Proportion: {proportion}', fontsize=10)\n",
    "plt.xlabel('Limited actions')\n",
    "plt.ylabel('DR Value')\n",
    "plt.legend()\n",
    "\n",
    "plt.show()"
   ]
  }
 ],
 "metadata": {
  "kernelspec": {
   "display_name": "unlabel_fair",
   "language": "python",
   "name": "python3"
  },
  "language_info": {
   "codemirror_mode": {
    "name": "ipython",
    "version": 3
   },
   "file_extension": ".py",
   "mimetype": "text/x-python",
   "name": "python",
   "nbconvert_exporter": "python",
   "pygments_lexer": "ipython3",
   "version": "3.9.20"
  }
 },
 "nbformat": 4,
 "nbformat_minor": 2
}
