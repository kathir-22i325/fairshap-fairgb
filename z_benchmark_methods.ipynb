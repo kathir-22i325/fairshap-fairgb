{
 "cells": [
  {
   "cell_type": "markdown",
   "metadata": {},
   "source": [
    "## Experiments of Benchmark methods"
   ]
  },
  {
   "cell_type": "code",
   "execution_count": null,
   "metadata": {},
   "outputs": [],
   "source": [
    "%reload_ext autoreload\n",
    "%autoreload 2"
   ]
  },
  {
   "cell_type": "code",
   "execution_count": null,
   "metadata": {},
   "outputs": [],
   "source": [
    "import pandas as pd\n",
    "import numpy as np\n",
    "from sklearn.model_selection import train_test_split\n",
    "from sklearn.linear_model import LogisticRegression\n",
    "from sklearn.ensemble import RandomForestClassifier\n",
    "from xgboost import XGBClassifier\n",
    "from sklearn.metrics import accuracy_score"
   ]
  },
  {
   "cell_type": "markdown",
   "metadata": {},
   "source": [
    "#### baseline - experiment"
   ]
  },
  {
   "cell_type": "code",
   "execution_count": null,
   "metadata": {},
   "outputs": [],
   "source": [
    "from src.benchmark_methods.benchmark_methods import BenchMarkPreprocessingMethods\n",
    "\n",
    "sota = BenchMarkPreprocessingMethods(sota_method='correlation_removal') # 'disparate_impact', 'correlation_removal', 'reweighing',\n",
    "sota.run_and_save_results(save_origin=False)   # save_origin=True if you want to save the original dataset's results"
   ]
  },
  {
   "cell_type": "code",
   "execution_count": null,
   "metadata": {},
   "outputs": [],
   "source": [
    "from src.experiments.fairshap_all_values import FairSHAP\n",
    "\n",
    "fairshap = FairSHAP(threshold=0.05, matching_method='NN', fairshap_base='DR')\n",
    "fairshap.run_and_save_results()"
   ]
  }
 ],
 "metadata": {
  "kernelspec": {
   "display_name": "unlabel_fair",
   "language": "python",
   "name": "python3"
  },
  "language_info": {
   "codemirror_mode": {
    "name": "ipython",
    "version": 3
   },
   "file_extension": ".py",
   "mimetype": "text/x-python",
   "name": "python",
   "nbconvert_exporter": "python",
   "pygments_lexer": "ipython3",
   "version": "3.9.20"
  }
 },
 "nbformat": 4,
 "nbformat_minor": 2
}
