{
 "cells": [
  {
   "cell_type": "markdown",
   "metadata": {},
   "source": [
    "## Ablation study\n"
   ]
  },
  {
   "cell_type": "code",
   "execution_count": null,
   "metadata": {},
   "outputs": [],
   "source": [
    "%reload_ext autoreload\n",
    "%autoreload 2"
   ]
  },
  {
   "cell_type": "code",
   "execution_count": null,
   "metadata": {},
   "outputs": [],
   "source": [
    "from src.ablation_study.ablation_study import AblationStudy\n",
    "from xgboost import XGBClassifier\n",
    "model = XGBClassifier()\n",
    "ablation = AblationStudy(model=model)\n",
    "ablation.run_ablation_study_1()\n"
   ]
  },
  {
   "cell_type": "code",
   "execution_count": null,
   "metadata": {},
   "outputs": [],
   "source": [
    "ablation.run_ablation_study_2()\n"
   ]
  },
  {
   "cell_type": "code",
   "execution_count": null,
   "metadata": {},
   "outputs": [],
   "source": [
    "from src.ablation_study.ablation_study import AblationStudy\n",
    "from xgboost import XGBClassifier\n",
    "model = XGBClassifier()\n",
    "ablation = AblationStudy(model=model)\n",
    "ablation.run_ablation_study_3()\n"
   ]
  }
 ],
 "metadata": {
  "kernelspec": {
   "display_name": "unlabel_fair",
   "language": "python",
   "name": "python3"
  },
  "language_info": {
   "codemirror_mode": {
    "name": "ipython",
    "version": 3
   },
   "file_extension": ".py",
   "mimetype": "text/x-python",
   "name": "python",
   "nbconvert_exporter": "python",
   "pygments_lexer": "ipython3",
   "version": "3.9.20"
  }
 },
 "nbformat": 4,
 "nbformat_minor": 2
}
