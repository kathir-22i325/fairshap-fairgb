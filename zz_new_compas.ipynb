{
 "cells": [
  {
   "cell_type": "markdown",
   "metadata": {},
   "source": [
    "# This notebook is for the Fair-Shapely experiment"
   ]
  },
  {
   "cell_type": "code",
   "execution_count": 1,
   "metadata": {},
   "outputs": [],
   "source": [
    "%reload_ext autoreload\n",
    "%autoreload 2"
   ]
  },
  {
   "cell_type": "markdown",
   "metadata": {},
   "source": [
    "### 1. Import libraries"
   ]
  },
  {
   "cell_type": "code",
   "execution_count": 2,
   "metadata": {},
   "outputs": [],
   "source": [
    "import pandas as pd\n",
    "import numpy as np\n",
    "from sklearn.model_selection import train_test_split\n",
    "from sklearn.linear_model import LogisticRegression\n",
    "from sklearn.ensemble import RandomForestClassifier\n",
    "from xgboost import XGBClassifier\n",
    "from sklearn.metrics import accuracy_score"
   ]
  },
  {
   "cell_type": "markdown",
   "metadata": {},
   "source": [
    "### 2. Import dataset"
   ]
  },
  {
   "cell_type": "code",
   "execution_count": 3,
   "metadata": {},
   "outputs": [],
   "source": [
    "from src.data.unified_dataloader import load_dataset\n",
    "\n",
    "a, processed_compas = load_dataset('compas')"
   ]
  },
  {
   "cell_type": "code",
   "execution_count": 4,
   "metadata": {},
   "outputs": [
    {
     "data": {
      "text/html": [
       "<div>\n",
       "<style scoped>\n",
       "    .dataframe tbody tr th:only-of-type {\n",
       "        vertical-align: middle;\n",
       "    }\n",
       "\n",
       "    .dataframe tbody tr th {\n",
       "        vertical-align: top;\n",
       "    }\n",
       "\n",
       "    .dataframe thead th {\n",
       "        text-align: right;\n",
       "    }\n",
       "</style>\n",
       "<table border=\"1\" class=\"dataframe\">\n",
       "  <thead>\n",
       "    <tr style=\"text-align: right;\">\n",
       "      <th></th>\n",
       "      <th>sex</th>\n",
       "      <th>age</th>\n",
       "      <th>juv_fel_count</th>\n",
       "      <th>juv_misd_count</th>\n",
       "      <th>juv_other_count</th>\n",
       "      <th>priors_count</th>\n",
       "      <th>race_African-American</th>\n",
       "      <th>race_Asian</th>\n",
       "      <th>race_Caucasian</th>\n",
       "      <th>race_Hispanic</th>\n",
       "      <th>race_Native American</th>\n",
       "      <th>race_Other</th>\n",
       "      <th>c_charge_degree_F</th>\n",
       "      <th>c_charge_degree_M</th>\n",
       "      <th>type_of_assessment_Risk of Recidivism</th>\n",
       "      <th>score_text_High</th>\n",
       "      <th>score_text_Low</th>\n",
       "      <th>score_text_Medium</th>\n",
       "      <th>two_year_recid</th>\n",
       "    </tr>\n",
       "  </thead>\n",
       "  <tbody>\n",
       "    <tr>\n",
       "      <th>0</th>\n",
       "      <td>1</td>\n",
       "      <td>2.875313</td>\n",
       "      <td>-0.141855</td>\n",
       "      <td>-0.187414</td>\n",
       "      <td>-0.218065</td>\n",
       "      <td>-0.711240</td>\n",
       "      <td>0</td>\n",
       "      <td>0</td>\n",
       "      <td>0</td>\n",
       "      <td>0</td>\n",
       "      <td>0</td>\n",
       "      <td>1</td>\n",
       "      <td>1</td>\n",
       "      <td>0</td>\n",
       "      <td>1</td>\n",
       "      <td>0</td>\n",
       "      <td>1</td>\n",
       "      <td>0</td>\n",
       "      <td>0</td>\n",
       "    </tr>\n",
       "    <tr>\n",
       "      <th>1</th>\n",
       "      <td>1</td>\n",
       "      <td>-0.068808</td>\n",
       "      <td>-0.141855</td>\n",
       "      <td>-0.187414</td>\n",
       "      <td>-0.218065</td>\n",
       "      <td>-0.711240</td>\n",
       "      <td>1</td>\n",
       "      <td>0</td>\n",
       "      <td>0</td>\n",
       "      <td>0</td>\n",
       "      <td>0</td>\n",
       "      <td>0</td>\n",
       "      <td>1</td>\n",
       "      <td>0</td>\n",
       "      <td>1</td>\n",
       "      <td>0</td>\n",
       "      <td>1</td>\n",
       "      <td>0</td>\n",
       "      <td>1</td>\n",
       "    </tr>\n",
       "    <tr>\n",
       "      <th>2</th>\n",
       "      <td>1</td>\n",
       "      <td>-0.909985</td>\n",
       "      <td>-0.141855</td>\n",
       "      <td>-0.187414</td>\n",
       "      <td>1.775750</td>\n",
       "      <td>0.108063</td>\n",
       "      <td>1</td>\n",
       "      <td>0</td>\n",
       "      <td>0</td>\n",
       "      <td>0</td>\n",
       "      <td>0</td>\n",
       "      <td>0</td>\n",
       "      <td>1</td>\n",
       "      <td>0</td>\n",
       "      <td>1</td>\n",
       "      <td>0</td>\n",
       "      <td>1</td>\n",
       "      <td>0</td>\n",
       "      <td>1</td>\n",
       "    </tr>\n",
       "  </tbody>\n",
       "</table>\n",
       "</div>"
      ],
      "text/plain": [
       "   sex       age  juv_fel_count  juv_misd_count  juv_other_count  \\\n",
       "0    1  2.875313      -0.141855       -0.187414        -0.218065   \n",
       "1    1 -0.068808      -0.141855       -0.187414        -0.218065   \n",
       "2    1 -0.909985      -0.141855       -0.187414         1.775750   \n",
       "\n",
       "   priors_count  race_African-American  race_Asian  race_Caucasian  \\\n",
       "0     -0.711240                      0           0               0   \n",
       "1     -0.711240                      1           0               0   \n",
       "2      0.108063                      1           0               0   \n",
       "\n",
       "   race_Hispanic  race_Native American  race_Other  c_charge_degree_F  \\\n",
       "0              0                     0           1                  1   \n",
       "1              0                     0           0                  1   \n",
       "2              0                     0           0                  1   \n",
       "\n",
       "   c_charge_degree_M  type_of_assessment_Risk of Recidivism  score_text_High  \\\n",
       "0                  0                                      1                0   \n",
       "1                  0                                      1                0   \n",
       "2                  0                                      1                0   \n",
       "\n",
       "   score_text_Low  score_text_Medium  two_year_recid  \n",
       "0               1                  0               0  \n",
       "1               1                  0               1  \n",
       "2               1                  0               1  "
      ]
     },
     "execution_count": 4,
     "metadata": {},
     "output_type": "execute_result"
    }
   ],
   "source": [
    "processed_compas.head(3)"
   ]
  },
  {
   "cell_type": "markdown",
   "metadata": {},
   "source": [
    "### 3. Split label/unlabel data, split train/test data."
   ]
  },
  {
   "cell_type": "code",
   "execution_count": 5,
   "metadata": {},
   "outputs": [
    {
     "name": "stdout",
     "output_type": "stream",
     "text": [
      "X_train shape: (5049, 18)\n",
      "X_test shape: (2165, 18)\n"
     ]
    }
   ],
   "source": [
    "'''COMPAS'''\n",
    "df = processed_compas.copy()\n",
    "X = df.drop('two_year_recid', axis=1)\n",
    "y = df['two_year_recid']\n",
    "\n",
    "# into 70% training and 30% testing\n",
    "X_train, X_test, y_train, y_test = train_test_split(X, y, test_size=0.3, random_state=1) \n",
    "print(f'X_train shape: {X_train.shape}')\n",
    "print(f'X_test shape: {X_test.shape}')"
   ]
  },
  {
   "cell_type": "markdown",
   "metadata": {},
   "source": [
    "### 4. Train the original model"
   ]
  },
  {
   "cell_type": "code",
   "execution_count": 6,
   "metadata": {},
   "outputs": [
    {
     "name": "stdout",
     "output_type": "stream",
     "text": [
      "Accuracy: 0.6646651270207852\n"
     ]
    }
   ],
   "source": [
    "model = XGBClassifier()  # 可以替换为 RandomForestClassifier() 等其他模型\n",
    "model.fit(X_train,y_train)\n",
    "\n",
    "# 预测和评估\n",
    "y_pred = model.predict(X_test)\n",
    "accuracy = accuracy_score(y_test, y_pred)\n",
    "print(f'Accuracy: {accuracy}')"
   ]
  },
  {
   "cell_type": "code",
   "execution_count": 7,
   "metadata": {},
   "outputs": [
    {
     "data": {
      "text/plain": [
       "sex\n",
       "1    4079\n",
       "0     970\n",
       "Name: count, dtype: int64"
      ]
     },
     "execution_count": 7,
     "metadata": {},
     "output_type": "execute_result"
    }
   ],
   "source": [
    "X_train['sex'].value_counts()"
   ]
  },
  {
   "cell_type": "code",
   "execution_count": 8,
   "metadata": {},
   "outputs": [],
   "source": [
    "'''把X_train分成majority和minority两个部分'''\n",
    "\n",
    "male_condition = X_train['sex'] == 1\n",
    "X_train_majority = X_train[male_condition]\n",
    "y_train_majority = y_train[male_condition]\n",
    "\n",
    "female_condition = X_train['sex'] == 0\n",
    "X_train_minority = X_train[female_condition]\n",
    "y_train_minority = y_train[female_condition]"
   ]
  },
  {
   "cell_type": "markdown",
   "metadata": {},
   "source": [
    "### 5. Evaluate the performance of original model"
   ]
  },
  {
   "cell_type": "code",
   "execution_count": 9,
   "metadata": {},
   "outputs": [
    {
     "name": "stderr",
     "output_type": "stream",
     "text": [
      "c:\\Users\\ZhuLi\\Anaconda3\\envs\\unlabel_fair\\lib\\site-packages\\tqdm\\auto.py:21: TqdmWarning: IProgress not found. Please update jupyter and ipywidgets. See https://ipywidgets.readthedocs.io/en/stable/user_install.html\n",
      "  from .autonotebook import tqdm as notebook_tqdm\n"
     ]
    },
    {
     "name": "stdout",
     "output_type": "stream",
     "text": [
      "original_test_DR: 0.0905148833990097\n",
      "original_train_DR: 0.08963561058044434\n"
     ]
    }
   ],
   "source": [
    "from src.attribution.oracle_metric import perturb_numpy_ver\n",
    "from src.attribution import FairnessExplainer\n",
    "sen_att_name = [\"sex\"]\n",
    "sen_att = [X_train.columns.get_loc(name) for name in sen_att_name]\n",
    "priv_val = [1]\n",
    "unpriv_dict = [list(set(X_train.values[:, sa])) for sa in sen_att]\n",
    "for sa_list, pv in zip(unpriv_dict, priv_val):\n",
    "    sa_list.remove(pv)\n",
    "# print(f'sen_att_name:{sen_att_name}')\n",
    "# print(f'sen_att:{sen_att}') # index of sensitive attribute\n",
    "# print(f'priv_val:{priv_val}') # privileged value\n",
    "# print(f'unpriv_dict:{unpriv_dict}') # unprivileged value(all values in the sensitive attribute, except the privileged value)\n",
    "\n",
    "\n",
    "\n",
    "''' \n",
    "计算DR value的函数\n",
    "'''\n",
    "def fairness_value_function(sen_att, priv_val, unpriv_dict, X, model):\n",
    "    X_disturbed = perturb_numpy_ver(\n",
    "        X=X,\n",
    "        sen_att=sen_att,\n",
    "        priv_val=priv_val,\n",
    "        unpriv_dict=unpriv_dict,\n",
    "        ratio=1.0,\n",
    "    )\n",
    "    fx = model.predict_proba(X)[:, 1]\n",
    "    fx_q = model.predict_proba(X_disturbed)[:, 1]\n",
    "    return np.mean(np.abs(fx - fx_q))\n",
    "original_test_DR = fairness_value_function(sen_att, priv_val, unpriv_dict, X_test.values, model)\n",
    "print(f'original_test_DR: {original_test_DR}')\n",
    "original_train_DR = fairness_value_function(sen_att, priv_val, unpriv_dict, X_train.values, model)\n",
    "print(f'original_train_DR: {original_train_DR}')"
   ]
  },
  {
   "cell_type": "code",
   "execution_count": 11,
   "metadata": {},
   "outputs": [
    {
     "name": "stdout",
     "output_type": "stream",
     "text": [
      "fair_grp1_DP: 0.13266396213657877\n",
      "fair_grp2_EO: 0.10047715768771964\n",
      "fair_grp3_PQP: 0.07868306642452261\n"
     ]
    }
   ],
   "source": [
    "from fairness_measures import marginalised_np_mat, grp1_DP, grp2_EO, grp3_PQP\n",
    "priv_idx = X_test['sex'].to_numpy().astype(bool)\n",
    "y_hat = y_pred\n",
    "y = y_test\n",
    "g1_Cm, g0_Cm = marginalised_np_mat(y, y_hat, 1, priv_idx)\n",
    "fair_grp1 = grp1_DP(g1_Cm, g0_Cm)[0]\n",
    "fair_grp2 = grp2_EO(g1_Cm, g0_Cm)[0]\n",
    "fair_grp3 = grp3_PQP(g1_Cm, g0_Cm)[0]\n",
    "print(f'fair_grp1_DP: {fair_grp1}')\n",
    "print(f'fair_grp2_EO: {fair_grp2}')\n",
    "print(f'fair_grp3_PQP: {fair_grp3}')"
   ]
  },
  {
   "cell_type": "markdown",
   "metadata": {},
   "source": [
    "### 5. 把female和male匹配，（或者male和female匹配），然后进行修改，重新训练"
   ]
  },
  {
   "cell_type": "code",
   "execution_count": null,
   "metadata": {},
   "outputs": [
    {
     "name": "stdout",
     "output_type": "stream",
     "text": [
      "2. 初始化FairnessExplainer\n",
      "--------接下来先对minority group进行修改--------\n",
      "3(a). 将X_train_minority_label0与X_train_majority_label0进行匹配\n",
      "3(b). 将X_train_minority_label1与X_train_majority_label1进行匹配\n",
      "4(a). 使用fairshap, 从 X_train_majority_label0中找到合适的值替换X_train_minority_label0中的数据\n",
      "4(b). 使用fairshap, 从 X_train_majority_label1中找到合适的值替换X_train_minority_label1中的数据\n",
      "5. 计算出varphi和q\n",
      "在X_train_minority中shapely value中大于0.1的值的个数有: 132\n",
      "--------接下来对majority group进行修改--------\n",
      "3(a). 将X_train_majority_label0与X_train_minority_label0进行匹配\n",
      "3(b). 将X_train_majority_label1与X_train_minority_label1进行匹配\n",
      "4(a). 使用fairshap, 从 X_train_minority_label0中找到合适的值替换X_train_majority_label0中的数据\n",
      "4(b). 使用fairshap, 从 X_train_minority_label1中找到合适的值替换X_train_majority_label1中的数据\n",
      "5. 计算出varphi和q\n",
      "在X_train_majority中shapely value中大于0.1的值的个数有: 1641\n",
      "6. 开始整理minority部分的修改和majority部分的修改并且合并新数据,共修改1773个数据点, 使用new training set训练新模型\n"
     ]
    }
   ],
   "source": [
    "from src.fairshap_experiment import ExperimentDR\n",
    "\n",
    "experiment = ExperimentDR(\n",
    "                            model,\n",
    "                            X_train_majority,\n",
    "                            y_train_majority,\n",
    "                            X_train_minority,\n",
    "                            y_train_minority,\n",
    "                            X_test,\n",
    "                            y_test,\n",
    "                            dataset_name='compas',\n",
    "                            fairshap_base='DP',\n",
    "                            original_Xtest_DR = original_test_DR,\n",
    "                            original_Xtest_acc = accuracy,\n",
    "                            original_Xtest_DP = fair_grp1,\n",
    "                            original_Xtest_EO = fair_grp2,\n",
    "                            original_Xtest_PQP = fair_grp3,)\n",
    "experiment.run_experiment()\n"
   ]
  },
  {
   "cell_type": "code",
   "execution_count": null,
   "metadata": {},
   "outputs": [],
   "source": []
  }
 ],
 "metadata": {
  "kernelspec": {
   "display_name": "unlabel_fair",
   "language": "python",
   "name": "python3"
  },
  "language_info": {
   "codemirror_mode": {
    "name": "ipython",
    "version": 3
   },
   "file_extension": ".py",
   "mimetype": "text/x-python",
   "name": "python",
   "nbconvert_exporter": "python",
   "pygments_lexer": "ipython3",
   "version": "3.9.20"
  }
 },
 "nbformat": 4,
 "nbformat_minor": 2
}
